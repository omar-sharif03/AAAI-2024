{
  "nbformat": 4,
  "nbformat_minor": 0,
  "metadata": {
    "colab": {
      "provenance": [],
      "machine_shape": "hm",
      "gpuType": "V100"
    },
    "kernelspec": {
      "name": "python3",
      "display_name": "Python 3"
    },
    "language_info": {
      "name": "python"
    },
    "accelerator": "GPU"
  },
  "cells": [
    {
      "cell_type": "code",
      "source": [
        "import pandas as pd\n",
        "import numpy as np\n",
        "import matplotlib.pyplot as plt\n",
        "import seaborn as sns\n",
        "import matplotlib.cm as cm\n",
        "import random\n",
        "import re\n",
        "import statistics as st\n",
        "%matplotlib inline\n",
        "# importing MultiLabelBinarizer\n",
        "from sklearn.preprocessing import MultiLabelBinarizer\n",
        "from sklearn.metrics import accuracy_score, precision_score, recall_score, f1_score, confusion_matrix, hamming_loss\n",
        "\n",
        "import warnings\n",
        "warnings.filterwarnings('ignore')"
      ],
      "metadata": {
        "id": "Q6dEn4M3Cvvs"
      },
      "execution_count": null,
      "outputs": []
    },
    {
      "cell_type": "code",
      "source": [
        "print(pd.__version__)\n",
        "print(np.__version__)\n"
      ],
      "metadata": {
        "colab": {
          "base_uri": "https://localhost:8080/"
        },
        "id": "XcYLqIG7IJx1",
        "outputId": "95f48c55-47d6-4740-d4c4-77966ee42015"
      },
      "execution_count": null,
      "outputs": [
        {
          "output_type": "stream",
          "name": "stdout",
          "text": [
            "1.5.3\n",
            "1.23.5\n"
          ]
        }
      ]
    },
    {
      "cell_type": "code",
      "source": [
        "import nltk\n",
        "nltk.download('stopwords')\n",
        "from nltk.corpus import stopwords\n",
        "stp = stopwords.words('english')\n",
        "print(stp)\n",
        "print(len(stp))"
      ],
      "metadata": {
        "colab": {
          "base_uri": "https://localhost:8080/"
        },
        "id": "cWmb0i1NEBfp",
        "outputId": "0acb60c8-cb46-4dae-a1c8-85734273dc2e"
      },
      "execution_count": null,
      "outputs": [
        {
          "output_type": "stream",
          "name": "stdout",
          "text": [
            "['i', 'me', 'my', 'myself', 'we', 'our', 'ours', 'ourselves', 'you', \"you're\", \"you've\", \"you'll\", \"you'd\", 'your', 'yours', 'yourself', 'yourselves', 'he', 'him', 'his', 'himself', 'she', \"she's\", 'her', 'hers', 'herself', 'it', \"it's\", 'its', 'itself', 'they', 'them', 'their', 'theirs', 'themselves', 'what', 'which', 'who', 'whom', 'this', 'that', \"that'll\", 'these', 'those', 'am', 'is', 'are', 'was', 'were', 'be', 'been', 'being', 'have', 'has', 'had', 'having', 'do', 'does', 'did', 'doing', 'a', 'an', 'the', 'and', 'but', 'if', 'or', 'because', 'as', 'until', 'while', 'of', 'at', 'by', 'for', 'with', 'about', 'against', 'between', 'into', 'through', 'during', 'before', 'after', 'above', 'below', 'to', 'from', 'up', 'down', 'in', 'out', 'on', 'off', 'over', 'under', 'again', 'further', 'then', 'once', 'here', 'there', 'when', 'where', 'why', 'how', 'all', 'any', 'both', 'each', 'few', 'more', 'most', 'other', 'some', 'such', 'no', 'nor', 'not', 'only', 'own', 'same', 'so', 'than', 'too', 'very', 's', 't', 'can', 'will', 'just', 'don', \"don't\", 'should', \"should've\", 'now', 'd', 'll', 'm', 'o', 're', 've', 'y', 'ain', 'aren', \"aren't\", 'couldn', \"couldn't\", 'didn', \"didn't\", 'doesn', \"doesn't\", 'hadn', \"hadn't\", 'hasn', \"hasn't\", 'haven', \"haven't\", 'isn', \"isn't\", 'ma', 'mightn', \"mightn't\", 'mustn', \"mustn't\", 'needn', \"needn't\", 'shan', \"shan't\", 'shouldn', \"shouldn't\", 'wasn', \"wasn't\", 'weren', \"weren't\", 'won', \"won't\", 'wouldn', \"wouldn't\"]\n",
            "179\n"
          ]
        },
        {
          "output_type": "stream",
          "name": "stderr",
          "text": [
            "[nltk_data] Downloading package stopwords to /root/nltk_data...\n",
            "[nltk_data]   Package stopwords is already up-to-date!\n"
          ]
        }
      ]
    },
    {
      "cell_type": "code",
      "execution_count": null,
      "metadata": {
        "colab": {
          "base_uri": "https://localhost:8080/",
          "height": 424
        },
        "id": "aYEmioh4CPnf",
        "outputId": "11a655a0-e051-452e-ff3f-ddb3eb230f40"
      },
      "outputs": [
        {
          "output_type": "execute_result",
          "data": {
            "text/plain": [
              "                                                   Text  AL  MA  PPE  CDU  TP  \\\n",
              "0     To tell Or not to tell. Do you disclose to you...   0   0    0    0   0   \n",
              "1     Please need honest experience Please respond!!...   0   1    0    1   0   \n",
              "2     kratom and suboxone?. Is fhere a benefit to ta...   0   0    0    1   0   \n",
              "3     Extraction. As I’m sure many of you know, subu...   0   1    0    1   0   \n",
              "4     Question on my prescription of suboxone?. So i...   0   1    0    0   0   \n",
              "...                                                 ...  ..  ..  ...  ...  ..   \n",
              "4061  Down to 2mg a day. Finally successfully lowere...   0   0    0    1   1   \n",
              "4062  Close To The Jump: What To Expect?. Hi all,\\n\\...   0   0    0    0   1   \n",
              "4063  Will smoking Salvia (Salvinorin A - high effic...   0   0    0    1   0   \n",
              "4064  Looking to get on Sub or Methadone Program - A...   1   0    0    0   0   \n",
              "4065  Curious... my brother was prescribed Suboxone ...   0   0    0    1   0   \n",
              "\n",
              "      OTH  \n",
              "0       1  \n",
              "1       0  \n",
              "2       0  \n",
              "3       0  \n",
              "4       0  \n",
              "...   ...  \n",
              "4061    0  \n",
              "4062    0  \n",
              "4063    0  \n",
              "4064    0  \n",
              "4065    0  \n",
              "\n",
              "[4066 rows x 7 columns]"
            ],
            "text/html": [
              "\n",
              "\n",
              "  <div id=\"df-7b5cd424-99e5-42cd-bae2-20b7ea66bae5\">\n",
              "    <div class=\"colab-df-container\">\n",
              "      <div>\n",
              "<style scoped>\n",
              "    .dataframe tbody tr th:only-of-type {\n",
              "        vertical-align: middle;\n",
              "    }\n",
              "\n",
              "    .dataframe tbody tr th {\n",
              "        vertical-align: top;\n",
              "    }\n",
              "\n",
              "    .dataframe thead th {\n",
              "        text-align: right;\n",
              "    }\n",
              "</style>\n",
              "<table border=\"1\" class=\"dataframe\">\n",
              "  <thead>\n",
              "    <tr style=\"text-align: right;\">\n",
              "      <th></th>\n",
              "      <th>Text</th>\n",
              "      <th>AL</th>\n",
              "      <th>MA</th>\n",
              "      <th>PPE</th>\n",
              "      <th>CDU</th>\n",
              "      <th>TP</th>\n",
              "      <th>OTH</th>\n",
              "    </tr>\n",
              "  </thead>\n",
              "  <tbody>\n",
              "    <tr>\n",
              "      <th>0</th>\n",
              "      <td>To tell Or not to tell. Do you disclose to you...</td>\n",
              "      <td>0</td>\n",
              "      <td>0</td>\n",
              "      <td>0</td>\n",
              "      <td>0</td>\n",
              "      <td>0</td>\n",
              "      <td>1</td>\n",
              "    </tr>\n",
              "    <tr>\n",
              "      <th>1</th>\n",
              "      <td>Please need honest experience Please respond!!...</td>\n",
              "      <td>0</td>\n",
              "      <td>1</td>\n",
              "      <td>0</td>\n",
              "      <td>1</td>\n",
              "      <td>0</td>\n",
              "      <td>0</td>\n",
              "    </tr>\n",
              "    <tr>\n",
              "      <th>2</th>\n",
              "      <td>kratom and suboxone?. Is fhere a benefit to ta...</td>\n",
              "      <td>0</td>\n",
              "      <td>0</td>\n",
              "      <td>0</td>\n",
              "      <td>1</td>\n",
              "      <td>0</td>\n",
              "      <td>0</td>\n",
              "    </tr>\n",
              "    <tr>\n",
              "      <th>3</th>\n",
              "      <td>Extraction. As I’m sure many of you know, subu...</td>\n",
              "      <td>0</td>\n",
              "      <td>1</td>\n",
              "      <td>0</td>\n",
              "      <td>1</td>\n",
              "      <td>0</td>\n",
              "      <td>0</td>\n",
              "    </tr>\n",
              "    <tr>\n",
              "      <th>4</th>\n",
              "      <td>Question on my prescription of suboxone?. So i...</td>\n",
              "      <td>0</td>\n",
              "      <td>1</td>\n",
              "      <td>0</td>\n",
              "      <td>0</td>\n",
              "      <td>0</td>\n",
              "      <td>0</td>\n",
              "    </tr>\n",
              "    <tr>\n",
              "      <th>...</th>\n",
              "      <td>...</td>\n",
              "      <td>...</td>\n",
              "      <td>...</td>\n",
              "      <td>...</td>\n",
              "      <td>...</td>\n",
              "      <td>...</td>\n",
              "      <td>...</td>\n",
              "    </tr>\n",
              "    <tr>\n",
              "      <th>4061</th>\n",
              "      <td>Down to 2mg a day. Finally successfully lowere...</td>\n",
              "      <td>0</td>\n",
              "      <td>0</td>\n",
              "      <td>0</td>\n",
              "      <td>1</td>\n",
              "      <td>1</td>\n",
              "      <td>0</td>\n",
              "    </tr>\n",
              "    <tr>\n",
              "      <th>4062</th>\n",
              "      <td>Close To The Jump: What To Expect?. Hi all,\\n\\...</td>\n",
              "      <td>0</td>\n",
              "      <td>0</td>\n",
              "      <td>0</td>\n",
              "      <td>0</td>\n",
              "      <td>1</td>\n",
              "      <td>0</td>\n",
              "    </tr>\n",
              "    <tr>\n",
              "      <th>4063</th>\n",
              "      <td>Will smoking Salvia (Salvinorin A - high effic...</td>\n",
              "      <td>0</td>\n",
              "      <td>0</td>\n",
              "      <td>0</td>\n",
              "      <td>1</td>\n",
              "      <td>0</td>\n",
              "      <td>0</td>\n",
              "    </tr>\n",
              "    <tr>\n",
              "      <th>4064</th>\n",
              "      <td>Looking to get on Sub or Methadone Program - A...</td>\n",
              "      <td>1</td>\n",
              "      <td>0</td>\n",
              "      <td>0</td>\n",
              "      <td>0</td>\n",
              "      <td>0</td>\n",
              "      <td>0</td>\n",
              "    </tr>\n",
              "    <tr>\n",
              "      <th>4065</th>\n",
              "      <td>Curious... my brother was prescribed Suboxone ...</td>\n",
              "      <td>0</td>\n",
              "      <td>0</td>\n",
              "      <td>0</td>\n",
              "      <td>1</td>\n",
              "      <td>0</td>\n",
              "      <td>0</td>\n",
              "    </tr>\n",
              "  </tbody>\n",
              "</table>\n",
              "<p>4066 rows × 7 columns</p>\n",
              "</div>\n",
              "      <button class=\"colab-df-convert\" onclick=\"convertToInteractive('df-7b5cd424-99e5-42cd-bae2-20b7ea66bae5')\"\n",
              "              title=\"Convert this dataframe to an interactive table.\"\n",
              "              style=\"display:none;\">\n",
              "\n",
              "  <svg xmlns=\"http://www.w3.org/2000/svg\" height=\"24px\"viewBox=\"0 0 24 24\"\n",
              "       width=\"24px\">\n",
              "    <path d=\"M0 0h24v24H0V0z\" fill=\"none\"/>\n",
              "    <path d=\"M18.56 5.44l.94 2.06.94-2.06 2.06-.94-2.06-.94-.94-2.06-.94 2.06-2.06.94zm-11 1L8.5 8.5l.94-2.06 2.06-.94-2.06-.94L8.5 2.5l-.94 2.06-2.06.94zm10 10l.94 2.06.94-2.06 2.06-.94-2.06-.94-.94-2.06-.94 2.06-2.06.94z\"/><path d=\"M17.41 7.96l-1.37-1.37c-.4-.4-.92-.59-1.43-.59-.52 0-1.04.2-1.43.59L10.3 9.45l-7.72 7.72c-.78.78-.78 2.05 0 2.83L4 21.41c.39.39.9.59 1.41.59.51 0 1.02-.2 1.41-.59l7.78-7.78 2.81-2.81c.8-.78.8-2.07 0-2.86zM5.41 20L4 18.59l7.72-7.72 1.47 1.35L5.41 20z\"/>\n",
              "  </svg>\n",
              "      </button>\n",
              "\n",
              "\n",
              "\n",
              "    <div id=\"df-877c1338-77da-4605-8b0d-d3c25372c096\">\n",
              "      <button class=\"colab-df-quickchart\" onclick=\"quickchart('df-877c1338-77da-4605-8b0d-d3c25372c096')\"\n",
              "              title=\"Suggest charts.\"\n",
              "              style=\"display:none;\">\n",
              "\n",
              "<svg xmlns=\"http://www.w3.org/2000/svg\" height=\"24px\"viewBox=\"0 0 24 24\"\n",
              "     width=\"24px\">\n",
              "    <g>\n",
              "        <path d=\"M19 3H5c-1.1 0-2 .9-2 2v14c0 1.1.9 2 2 2h14c1.1 0 2-.9 2-2V5c0-1.1-.9-2-2-2zM9 17H7v-7h2v7zm4 0h-2V7h2v10zm4 0h-2v-4h2v4z\"/>\n",
              "    </g>\n",
              "</svg>\n",
              "      </button>\n",
              "    </div>\n",
              "\n",
              "<style>\n",
              "  .colab-df-quickchart {\n",
              "    background-color: #E8F0FE;\n",
              "    border: none;\n",
              "    border-radius: 50%;\n",
              "    cursor: pointer;\n",
              "    display: none;\n",
              "    fill: #1967D2;\n",
              "    height: 32px;\n",
              "    padding: 0 0 0 0;\n",
              "    width: 32px;\n",
              "  }\n",
              "\n",
              "  .colab-df-quickchart:hover {\n",
              "    background-color: #E2EBFA;\n",
              "    box-shadow: 0px 1px 2px rgba(60, 64, 67, 0.3), 0px 1px 3px 1px rgba(60, 64, 67, 0.15);\n",
              "    fill: #174EA6;\n",
              "  }\n",
              "\n",
              "  [theme=dark] .colab-df-quickchart {\n",
              "    background-color: #3B4455;\n",
              "    fill: #D2E3FC;\n",
              "  }\n",
              "\n",
              "  [theme=dark] .colab-df-quickchart:hover {\n",
              "    background-color: #434B5C;\n",
              "    box-shadow: 0px 1px 3px 1px rgba(0, 0, 0, 0.15);\n",
              "    filter: drop-shadow(0px 1px 2px rgba(0, 0, 0, 0.3));\n",
              "    fill: #FFFFFF;\n",
              "  }\n",
              "</style>\n",
              "\n",
              "    <script>\n",
              "      async function quickchart(key) {\n",
              "        const containerElement = document.querySelector('#' + key);\n",
              "        const charts = await google.colab.kernel.invokeFunction(\n",
              "            'suggestCharts', [key], {});\n",
              "      }\n",
              "    </script>\n",
              "\n",
              "      <script>\n",
              "\n",
              "function displayQuickchartButton(domScope) {\n",
              "  let quickchartButtonEl =\n",
              "    domScope.querySelector('#df-877c1338-77da-4605-8b0d-d3c25372c096 button.colab-df-quickchart');\n",
              "  quickchartButtonEl.style.display =\n",
              "    google.colab.kernel.accessAllowed ? 'block' : 'none';\n",
              "}\n",
              "\n",
              "        displayQuickchartButton(document);\n",
              "      </script>\n",
              "      <style>\n",
              "    .colab-df-container {\n",
              "      display:flex;\n",
              "      flex-wrap:wrap;\n",
              "      gap: 12px;\n",
              "    }\n",
              "\n",
              "    .colab-df-convert {\n",
              "      background-color: #E8F0FE;\n",
              "      border: none;\n",
              "      border-radius: 50%;\n",
              "      cursor: pointer;\n",
              "      display: none;\n",
              "      fill: #1967D2;\n",
              "      height: 32px;\n",
              "      padding: 0 0 0 0;\n",
              "      width: 32px;\n",
              "    }\n",
              "\n",
              "    .colab-df-convert:hover {\n",
              "      background-color: #E2EBFA;\n",
              "      box-shadow: 0px 1px 2px rgba(60, 64, 67, 0.3), 0px 1px 3px 1px rgba(60, 64, 67, 0.15);\n",
              "      fill: #174EA6;\n",
              "    }\n",
              "\n",
              "    [theme=dark] .colab-df-convert {\n",
              "      background-color: #3B4455;\n",
              "      fill: #D2E3FC;\n",
              "    }\n",
              "\n",
              "    [theme=dark] .colab-df-convert:hover {\n",
              "      background-color: #434B5C;\n",
              "      box-shadow: 0px 1px 3px 1px rgba(0, 0, 0, 0.15);\n",
              "      filter: drop-shadow(0px 1px 2px rgba(0, 0, 0, 0.3));\n",
              "      fill: #FFFFFF;\n",
              "    }\n",
              "  </style>\n",
              "\n",
              "      <script>\n",
              "        const buttonEl =\n",
              "          document.querySelector('#df-7b5cd424-99e5-42cd-bae2-20b7ea66bae5 button.colab-df-convert');\n",
              "        buttonEl.style.display =\n",
              "          google.colab.kernel.accessAllowed ? 'block' : 'none';\n",
              "\n",
              "        async function convertToInteractive(key) {\n",
              "          const element = document.querySelector('#df-7b5cd424-99e5-42cd-bae2-20b7ea66bae5');\n",
              "          const dataTable =\n",
              "            await google.colab.kernel.invokeFunction('convertToInteractive',\n",
              "                                                     [key], {});\n",
              "          if (!dataTable) return;\n",
              "\n",
              "          const docLinkHtml = 'Like what you see? Visit the ' +\n",
              "            '<a target=\"_blank\" href=https://colab.research.google.com/notebooks/data_table.ipynb>data table notebook</a>'\n",
              "            + ' to learn more about interactive tables.';\n",
              "          element.innerHTML = '';\n",
              "          dataTable['output_type'] = 'display_data';\n",
              "          await google.colab.output.renderOutput(dataTable, element);\n",
              "          const docLink = document.createElement('div');\n",
              "          docLink.innerHTML = docLinkHtml;\n",
              "          element.appendChild(docLink);\n",
              "        }\n",
              "      </script>\n",
              "    </div>\n",
              "  </div>\n"
            ]
          },
          "metadata": {},
          "execution_count": 89
        }
      ],
      "source": [
        "path = '/content/drive/MyDrive/Omar/AAAI-Submission/'\n",
        "train = pd.read_csv(path + 'train.csv')\n",
        "val = pd.read_csv(path + 'val.csv')\n",
        "test = pd.read_csv(path + 'test.csv')\n",
        "train"
      ]
    },
    {
      "cell_type": "code",
      "source": [
        "# Cleaning Data [Remove unncessary symbols]\n",
        "def cleaning_data(row, bool_stopwords):\n",
        "      row=str(row)\n",
        "      post = row.replace('\\n', ' ') #removing new line\n",
        "      url_pattern = re.compile(r'https?://\\S+|www\\.\\S+') # removing urls\n",
        "      post = url_pattern.sub(r'', post)\n",
        "      post = re.sub(r'[^\\w\\s|\\.]', '', str(post)) #removing unnecessary punctuation #Not removing the full-stop\n",
        "      post = post.lower() # Converting into lowercase\n",
        "      if bool_stopwords == True:\n",
        "        result = post.split()\n",
        "        post = [word.strip() for word in result if word not in stp ]\n",
        "        post =\" \".join(post)\n",
        "      return post\n",
        "\n",
        "# Apply the function into the train dataset\n",
        "# Stopwords are not removed\n",
        "train['Text'] = train['Text'].apply(cleaning_data, bool_stopwords = False)\n",
        "val['Text'] = val['Text'].apply(cleaning_data, bool_stopwords = False)\n",
        "test['Text'] = test['Text'].apply(cleaning_data, bool_stopwords = False)\n",
        "train"
      ],
      "metadata": {
        "colab": {
          "base_uri": "https://localhost:8080/",
          "height": 424
        },
        "id": "TePI6iN3Cu2_",
        "outputId": "1415c18d-4f27-4b54-b4e9-2257379f0009"
      },
      "execution_count": null,
      "outputs": [
        {
          "output_type": "execute_result",
          "data": {
            "text/plain": [
              "                                                   Text  AL  MA  PPE  CDU  TP  \\\n",
              "0     to tell or not to tell. do you disclose to you...   0   0    0    0   0   \n",
              "1     please need honest experience please respond n...   0   1    0    1   0   \n",
              "2     kratom and suboxone. is fhere a benefit to tak...   0   0    0    1   0   \n",
              "3     extraction. as im sure many of you know subute...   0   1    0    1   0   \n",
              "4     question on my prescription of suboxone. so it...   0   1    0    0   0   \n",
              "...                                                 ...  ..  ..  ...  ...  ..   \n",
              "4061  down to 2mg a day. finally successfully lowere...   0   0    0    1   1   \n",
              "4062  close to the jump what to expect. hi all  i sa...   0   0    0    0   1   \n",
              "4063  will smoking salvia salvinorin a  high efficac...   0   0    0    1   0   \n",
              "4064  looking to get on sub or methadone program  au...   1   0    0    0   0   \n",
              "4065  curious... my brother was prescribed suboxone ...   0   0    0    1   0   \n",
              "\n",
              "      OTH  \n",
              "0       1  \n",
              "1       0  \n",
              "2       0  \n",
              "3       0  \n",
              "4       0  \n",
              "...   ...  \n",
              "4061    0  \n",
              "4062    0  \n",
              "4063    0  \n",
              "4064    0  \n",
              "4065    0  \n",
              "\n",
              "[4066 rows x 7 columns]"
            ],
            "text/html": [
              "\n",
              "\n",
              "  <div id=\"df-9608ceff-ee20-4d77-a566-d5a4371a1464\">\n",
              "    <div class=\"colab-df-container\">\n",
              "      <div>\n",
              "<style scoped>\n",
              "    .dataframe tbody tr th:only-of-type {\n",
              "        vertical-align: middle;\n",
              "    }\n",
              "\n",
              "    .dataframe tbody tr th {\n",
              "        vertical-align: top;\n",
              "    }\n",
              "\n",
              "    .dataframe thead th {\n",
              "        text-align: right;\n",
              "    }\n",
              "</style>\n",
              "<table border=\"1\" class=\"dataframe\">\n",
              "  <thead>\n",
              "    <tr style=\"text-align: right;\">\n",
              "      <th></th>\n",
              "      <th>Text</th>\n",
              "      <th>AL</th>\n",
              "      <th>MA</th>\n",
              "      <th>PPE</th>\n",
              "      <th>CDU</th>\n",
              "      <th>TP</th>\n",
              "      <th>OTH</th>\n",
              "    </tr>\n",
              "  </thead>\n",
              "  <tbody>\n",
              "    <tr>\n",
              "      <th>0</th>\n",
              "      <td>to tell or not to tell. do you disclose to you...</td>\n",
              "      <td>0</td>\n",
              "      <td>0</td>\n",
              "      <td>0</td>\n",
              "      <td>0</td>\n",
              "      <td>0</td>\n",
              "      <td>1</td>\n",
              "    </tr>\n",
              "    <tr>\n",
              "      <th>1</th>\n",
              "      <td>please need honest experience please respond n...</td>\n",
              "      <td>0</td>\n",
              "      <td>1</td>\n",
              "      <td>0</td>\n",
              "      <td>1</td>\n",
              "      <td>0</td>\n",
              "      <td>0</td>\n",
              "    </tr>\n",
              "    <tr>\n",
              "      <th>2</th>\n",
              "      <td>kratom and suboxone. is fhere a benefit to tak...</td>\n",
              "      <td>0</td>\n",
              "      <td>0</td>\n",
              "      <td>0</td>\n",
              "      <td>1</td>\n",
              "      <td>0</td>\n",
              "      <td>0</td>\n",
              "    </tr>\n",
              "    <tr>\n",
              "      <th>3</th>\n",
              "      <td>extraction. as im sure many of you know subute...</td>\n",
              "      <td>0</td>\n",
              "      <td>1</td>\n",
              "      <td>0</td>\n",
              "      <td>1</td>\n",
              "      <td>0</td>\n",
              "      <td>0</td>\n",
              "    </tr>\n",
              "    <tr>\n",
              "      <th>4</th>\n",
              "      <td>question on my prescription of suboxone. so it...</td>\n",
              "      <td>0</td>\n",
              "      <td>1</td>\n",
              "      <td>0</td>\n",
              "      <td>0</td>\n",
              "      <td>0</td>\n",
              "      <td>0</td>\n",
              "    </tr>\n",
              "    <tr>\n",
              "      <th>...</th>\n",
              "      <td>...</td>\n",
              "      <td>...</td>\n",
              "      <td>...</td>\n",
              "      <td>...</td>\n",
              "      <td>...</td>\n",
              "      <td>...</td>\n",
              "      <td>...</td>\n",
              "    </tr>\n",
              "    <tr>\n",
              "      <th>4061</th>\n",
              "      <td>down to 2mg a day. finally successfully lowere...</td>\n",
              "      <td>0</td>\n",
              "      <td>0</td>\n",
              "      <td>0</td>\n",
              "      <td>1</td>\n",
              "      <td>1</td>\n",
              "      <td>0</td>\n",
              "    </tr>\n",
              "    <tr>\n",
              "      <th>4062</th>\n",
              "      <td>close to the jump what to expect. hi all  i sa...</td>\n",
              "      <td>0</td>\n",
              "      <td>0</td>\n",
              "      <td>0</td>\n",
              "      <td>0</td>\n",
              "      <td>1</td>\n",
              "      <td>0</td>\n",
              "    </tr>\n",
              "    <tr>\n",
              "      <th>4063</th>\n",
              "      <td>will smoking salvia salvinorin a  high efficac...</td>\n",
              "      <td>0</td>\n",
              "      <td>0</td>\n",
              "      <td>0</td>\n",
              "      <td>1</td>\n",
              "      <td>0</td>\n",
              "      <td>0</td>\n",
              "    </tr>\n",
              "    <tr>\n",
              "      <th>4064</th>\n",
              "      <td>looking to get on sub or methadone program  au...</td>\n",
              "      <td>1</td>\n",
              "      <td>0</td>\n",
              "      <td>0</td>\n",
              "      <td>0</td>\n",
              "      <td>0</td>\n",
              "      <td>0</td>\n",
              "    </tr>\n",
              "    <tr>\n",
              "      <th>4065</th>\n",
              "      <td>curious... my brother was prescribed suboxone ...</td>\n",
              "      <td>0</td>\n",
              "      <td>0</td>\n",
              "      <td>0</td>\n",
              "      <td>1</td>\n",
              "      <td>0</td>\n",
              "      <td>0</td>\n",
              "    </tr>\n",
              "  </tbody>\n",
              "</table>\n",
              "<p>4066 rows × 7 columns</p>\n",
              "</div>\n",
              "      <button class=\"colab-df-convert\" onclick=\"convertToInteractive('df-9608ceff-ee20-4d77-a566-d5a4371a1464')\"\n",
              "              title=\"Convert this dataframe to an interactive table.\"\n",
              "              style=\"display:none;\">\n",
              "\n",
              "  <svg xmlns=\"http://www.w3.org/2000/svg\" height=\"24px\"viewBox=\"0 0 24 24\"\n",
              "       width=\"24px\">\n",
              "    <path d=\"M0 0h24v24H0V0z\" fill=\"none\"/>\n",
              "    <path d=\"M18.56 5.44l.94 2.06.94-2.06 2.06-.94-2.06-.94-.94-2.06-.94 2.06-2.06.94zm-11 1L8.5 8.5l.94-2.06 2.06-.94-2.06-.94L8.5 2.5l-.94 2.06-2.06.94zm10 10l.94 2.06.94-2.06 2.06-.94-2.06-.94-.94-2.06-.94 2.06-2.06.94z\"/><path d=\"M17.41 7.96l-1.37-1.37c-.4-.4-.92-.59-1.43-.59-.52 0-1.04.2-1.43.59L10.3 9.45l-7.72 7.72c-.78.78-.78 2.05 0 2.83L4 21.41c.39.39.9.59 1.41.59.51 0 1.02-.2 1.41-.59l7.78-7.78 2.81-2.81c.8-.78.8-2.07 0-2.86zM5.41 20L4 18.59l7.72-7.72 1.47 1.35L5.41 20z\"/>\n",
              "  </svg>\n",
              "      </button>\n",
              "\n",
              "\n",
              "\n",
              "    <div id=\"df-8f2b02c9-c3ab-487d-95f3-839455e96446\">\n",
              "      <button class=\"colab-df-quickchart\" onclick=\"quickchart('df-8f2b02c9-c3ab-487d-95f3-839455e96446')\"\n",
              "              title=\"Suggest charts.\"\n",
              "              style=\"display:none;\">\n",
              "\n",
              "<svg xmlns=\"http://www.w3.org/2000/svg\" height=\"24px\"viewBox=\"0 0 24 24\"\n",
              "     width=\"24px\">\n",
              "    <g>\n",
              "        <path d=\"M19 3H5c-1.1 0-2 .9-2 2v14c0 1.1.9 2 2 2h14c1.1 0 2-.9 2-2V5c0-1.1-.9-2-2-2zM9 17H7v-7h2v7zm4 0h-2V7h2v10zm4 0h-2v-4h2v4z\"/>\n",
              "    </g>\n",
              "</svg>\n",
              "      </button>\n",
              "    </div>\n",
              "\n",
              "<style>\n",
              "  .colab-df-quickchart {\n",
              "    background-color: #E8F0FE;\n",
              "    border: none;\n",
              "    border-radius: 50%;\n",
              "    cursor: pointer;\n",
              "    display: none;\n",
              "    fill: #1967D2;\n",
              "    height: 32px;\n",
              "    padding: 0 0 0 0;\n",
              "    width: 32px;\n",
              "  }\n",
              "\n",
              "  .colab-df-quickchart:hover {\n",
              "    background-color: #E2EBFA;\n",
              "    box-shadow: 0px 1px 2px rgba(60, 64, 67, 0.3), 0px 1px 3px 1px rgba(60, 64, 67, 0.15);\n",
              "    fill: #174EA6;\n",
              "  }\n",
              "\n",
              "  [theme=dark] .colab-df-quickchart {\n",
              "    background-color: #3B4455;\n",
              "    fill: #D2E3FC;\n",
              "  }\n",
              "\n",
              "  [theme=dark] .colab-df-quickchart:hover {\n",
              "    background-color: #434B5C;\n",
              "    box-shadow: 0px 1px 3px 1px rgba(0, 0, 0, 0.15);\n",
              "    filter: drop-shadow(0px 1px 2px rgba(0, 0, 0, 0.3));\n",
              "    fill: #FFFFFF;\n",
              "  }\n",
              "</style>\n",
              "\n",
              "    <script>\n",
              "      async function quickchart(key) {\n",
              "        const containerElement = document.querySelector('#' + key);\n",
              "        const charts = await google.colab.kernel.invokeFunction(\n",
              "            'suggestCharts', [key], {});\n",
              "      }\n",
              "    </script>\n",
              "\n",
              "      <script>\n",
              "\n",
              "function displayQuickchartButton(domScope) {\n",
              "  let quickchartButtonEl =\n",
              "    domScope.querySelector('#df-8f2b02c9-c3ab-487d-95f3-839455e96446 button.colab-df-quickchart');\n",
              "  quickchartButtonEl.style.display =\n",
              "    google.colab.kernel.accessAllowed ? 'block' : 'none';\n",
              "}\n",
              "\n",
              "        displayQuickchartButton(document);\n",
              "      </script>\n",
              "      <style>\n",
              "    .colab-df-container {\n",
              "      display:flex;\n",
              "      flex-wrap:wrap;\n",
              "      gap: 12px;\n",
              "    }\n",
              "\n",
              "    .colab-df-convert {\n",
              "      background-color: #E8F0FE;\n",
              "      border: none;\n",
              "      border-radius: 50%;\n",
              "      cursor: pointer;\n",
              "      display: none;\n",
              "      fill: #1967D2;\n",
              "      height: 32px;\n",
              "      padding: 0 0 0 0;\n",
              "      width: 32px;\n",
              "    }\n",
              "\n",
              "    .colab-df-convert:hover {\n",
              "      background-color: #E2EBFA;\n",
              "      box-shadow: 0px 1px 2px rgba(60, 64, 67, 0.3), 0px 1px 3px 1px rgba(60, 64, 67, 0.15);\n",
              "      fill: #174EA6;\n",
              "    }\n",
              "\n",
              "    [theme=dark] .colab-df-convert {\n",
              "      background-color: #3B4455;\n",
              "      fill: #D2E3FC;\n",
              "    }\n",
              "\n",
              "    [theme=dark] .colab-df-convert:hover {\n",
              "      background-color: #434B5C;\n",
              "      box-shadow: 0px 1px 3px 1px rgba(0, 0, 0, 0.15);\n",
              "      filter: drop-shadow(0px 1px 2px rgba(0, 0, 0, 0.3));\n",
              "      fill: #FFFFFF;\n",
              "    }\n",
              "  </style>\n",
              "\n",
              "      <script>\n",
              "        const buttonEl =\n",
              "          document.querySelector('#df-9608ceff-ee20-4d77-a566-d5a4371a1464 button.colab-df-convert');\n",
              "        buttonEl.style.display =\n",
              "          google.colab.kernel.accessAllowed ? 'block' : 'none';\n",
              "\n",
              "        async function convertToInteractive(key) {\n",
              "          const element = document.querySelector('#df-9608ceff-ee20-4d77-a566-d5a4371a1464');\n",
              "          const dataTable =\n",
              "            await google.colab.kernel.invokeFunction('convertToInteractive',\n",
              "                                                     [key], {});\n",
              "          if (!dataTable) return;\n",
              "\n",
              "          const docLinkHtml = 'Like what you see? Visit the ' +\n",
              "            '<a target=\"_blank\" href=https://colab.research.google.com/notebooks/data_table.ipynb>data table notebook</a>'\n",
              "            + ' to learn more about interactive tables.';\n",
              "          element.innerHTML = '';\n",
              "          dataTable['output_type'] = 'display_data';\n",
              "          await google.colab.output.renderOutput(dataTable, element);\n",
              "          const docLink = document.createElement('div');\n",
              "          docLink.innerHTML = docLinkHtml;\n",
              "          element.appendChild(docLink);\n",
              "        }\n",
              "      </script>\n",
              "    </div>\n",
              "  </div>\n"
            ]
          },
          "metadata": {},
          "execution_count": 90
        }
      ]
    },
    {
      "cell_type": "markdown",
      "source": [
        "## Text Classification with KTrain"
      ],
      "metadata": {
        "id": "Syz6inziEN7I"
      }
    },
    {
      "cell_type": "code",
      "source": [
        "!pip install ktrain"
      ],
      "metadata": {
        "colab": {
          "base_uri": "https://localhost:8080/"
        },
        "id": "u1ZZZYDoD-zf",
        "outputId": "4ec06ec7-a8a2-473a-dd2f-f5e550d8cb0e"
      },
      "execution_count": null,
      "outputs": [
        {
          "output_type": "stream",
          "name": "stdout",
          "text": [
            "Requirement already satisfied: ktrain in /usr/local/lib/python3.10/dist-packages (0.37.6)\n",
            "Requirement already satisfied: scikit-learn in /usr/local/lib/python3.10/dist-packages (from ktrain) (1.2.2)\n",
            "Requirement already satisfied: matplotlib>=3.0.0 in /usr/local/lib/python3.10/dist-packages (from ktrain) (3.7.1)\n",
            "Requirement already satisfied: pandas>=1.0.1 in /usr/local/lib/python3.10/dist-packages (from ktrain) (1.5.3)\n",
            "Requirement already satisfied: fastprogress>=0.1.21 in /usr/local/lib/python3.10/dist-packages (from ktrain) (1.0.3)\n",
            "Requirement already satisfied: requests in /usr/local/lib/python3.10/dist-packages (from ktrain) (2.31.0)\n",
            "Requirement already satisfied: joblib in /usr/local/lib/python3.10/dist-packages (from ktrain) (1.3.1)\n",
            "Requirement already satisfied: packaging in /usr/local/lib/python3.10/dist-packages (from ktrain) (23.1)\n",
            "Requirement already satisfied: langdetect in /usr/local/lib/python3.10/dist-packages (from ktrain) (1.0.9)\n",
            "Requirement already satisfied: jieba in /usr/local/lib/python3.10/dist-packages (from ktrain) (0.42.1)\n",
            "Requirement already satisfied: cchardet in /usr/local/lib/python3.10/dist-packages (from ktrain) (2.1.7)\n",
            "Requirement already satisfied: chardet in /usr/local/lib/python3.10/dist-packages (from ktrain) (4.0.0)\n",
            "Requirement already satisfied: syntok>1.3.3 in /usr/local/lib/python3.10/dist-packages (from ktrain) (1.4.4)\n",
            "Requirement already satisfied: tika in /usr/local/lib/python3.10/dist-packages (from ktrain) (2.6.0)\n",
            "Requirement already satisfied: transformers>=4.17.0 in /usr/local/lib/python3.10/dist-packages (from ktrain) (4.31.0)\n",
            "Requirement already satisfied: sentencepiece in /usr/local/lib/python3.10/dist-packages (from ktrain) (0.1.99)\n",
            "Requirement already satisfied: keras-bert>=0.86.0 in /usr/local/lib/python3.10/dist-packages (from ktrain) (0.89.0)\n",
            "Requirement already satisfied: whoosh in /usr/local/lib/python3.10/dist-packages (from ktrain) (2.7.4)\n",
            "Requirement already satisfied: numpy in /usr/local/lib/python3.10/dist-packages (from keras-bert>=0.86.0->ktrain) (1.23.5)\n",
            "Requirement already satisfied: keras-transformer==0.40.0 in /usr/local/lib/python3.10/dist-packages (from keras-bert>=0.86.0->ktrain) (0.40.0)\n",
            "Requirement already satisfied: keras-pos-embd==0.13.0 in /usr/local/lib/python3.10/dist-packages (from keras-transformer==0.40.0->keras-bert>=0.86.0->ktrain) (0.13.0)\n",
            "Requirement already satisfied: keras-multi-head==0.29.0 in /usr/local/lib/python3.10/dist-packages (from keras-transformer==0.40.0->keras-bert>=0.86.0->ktrain) (0.29.0)\n",
            "Requirement already satisfied: keras-layer-normalization==0.16.0 in /usr/local/lib/python3.10/dist-packages (from keras-transformer==0.40.0->keras-bert>=0.86.0->ktrain) (0.16.0)\n",
            "Requirement already satisfied: keras-position-wise-feed-forward==0.8.0 in /usr/local/lib/python3.10/dist-packages (from keras-transformer==0.40.0->keras-bert>=0.86.0->ktrain) (0.8.0)\n",
            "Requirement already satisfied: keras-embed-sim==0.10.0 in /usr/local/lib/python3.10/dist-packages (from keras-transformer==0.40.0->keras-bert>=0.86.0->ktrain) (0.10.0)\n",
            "Requirement already satisfied: keras-self-attention==0.51.0 in /usr/local/lib/python3.10/dist-packages (from keras-multi-head==0.29.0->keras-transformer==0.40.0->keras-bert>=0.86.0->ktrain) (0.51.0)\n",
            "Requirement already satisfied: contourpy>=1.0.1 in /usr/local/lib/python3.10/dist-packages (from matplotlib>=3.0.0->ktrain) (1.1.0)\n",
            "Requirement already satisfied: cycler>=0.10 in /usr/local/lib/python3.10/dist-packages (from matplotlib>=3.0.0->ktrain) (0.11.0)\n",
            "Requirement already satisfied: fonttools>=4.22.0 in /usr/local/lib/python3.10/dist-packages (from matplotlib>=3.0.0->ktrain) (4.42.0)\n",
            "Requirement already satisfied: kiwisolver>=1.0.1 in /usr/local/lib/python3.10/dist-packages (from matplotlib>=3.0.0->ktrain) (1.4.4)\n",
            "Requirement already satisfied: pillow>=6.2.0 in /usr/local/lib/python3.10/dist-packages (from matplotlib>=3.0.0->ktrain) (9.4.0)\n",
            "Requirement already satisfied: pyparsing>=2.3.1 in /usr/local/lib/python3.10/dist-packages (from matplotlib>=3.0.0->ktrain) (3.1.1)\n",
            "Requirement already satisfied: python-dateutil>=2.7 in /usr/local/lib/python3.10/dist-packages (from matplotlib>=3.0.0->ktrain) (2.8.2)\n",
            "Requirement already satisfied: pytz>=2020.1 in /usr/local/lib/python3.10/dist-packages (from pandas>=1.0.1->ktrain) (2022.7.1)\n",
            "Requirement already satisfied: regex>2016 in /usr/local/lib/python3.10/dist-packages (from syntok>1.3.3->ktrain) (2022.10.31)\n",
            "Requirement already satisfied: filelock in /usr/local/lib/python3.10/dist-packages (from transformers>=4.17.0->ktrain) (3.12.2)\n",
            "Requirement already satisfied: huggingface-hub<1.0,>=0.14.1 in /usr/local/lib/python3.10/dist-packages (from transformers>=4.17.0->ktrain) (0.16.4)\n",
            "Requirement already satisfied: pyyaml>=5.1 in /usr/local/lib/python3.10/dist-packages (from transformers>=4.17.0->ktrain) (6.0.1)\n",
            "Requirement already satisfied: tokenizers!=0.11.3,<0.14,>=0.11.1 in /usr/local/lib/python3.10/dist-packages (from transformers>=4.17.0->ktrain) (0.13.3)\n",
            "Requirement already satisfied: safetensors>=0.3.1 in /usr/local/lib/python3.10/dist-packages (from transformers>=4.17.0->ktrain) (0.3.2)\n",
            "Requirement already satisfied: tqdm>=4.27 in /usr/local/lib/python3.10/dist-packages (from transformers>=4.17.0->ktrain) (4.65.0)\n",
            "Requirement already satisfied: six in /usr/local/lib/python3.10/dist-packages (from langdetect->ktrain) (1.16.0)\n",
            "Requirement already satisfied: charset-normalizer<4,>=2 in /usr/local/lib/python3.10/dist-packages (from requests->ktrain) (3.2.0)\n",
            "Requirement already satisfied: idna<4,>=2.5 in /usr/local/lib/python3.10/dist-packages (from requests->ktrain) (3.4)\n",
            "Requirement already satisfied: urllib3<3,>=1.21.1 in /usr/local/lib/python3.10/dist-packages (from requests->ktrain) (1.26.16)\n",
            "Requirement already satisfied: certifi>=2017.4.17 in /usr/local/lib/python3.10/dist-packages (from requests->ktrain) (2023.7.22)\n",
            "Requirement already satisfied: scipy>=1.3.2 in /usr/local/lib/python3.10/dist-packages (from scikit-learn->ktrain) (1.10.1)\n",
            "Requirement already satisfied: threadpoolctl>=2.0.0 in /usr/local/lib/python3.10/dist-packages (from scikit-learn->ktrain) (3.2.0)\n",
            "Requirement already satisfied: setuptools in /usr/local/lib/python3.10/dist-packages (from tika->ktrain) (67.7.2)\n",
            "Requirement already satisfied: fsspec in /usr/local/lib/python3.10/dist-packages (from huggingface-hub<1.0,>=0.14.1->transformers>=4.17.0->ktrain) (2023.6.0)\n",
            "Requirement already satisfied: typing-extensions>=3.7.4.3 in /usr/local/lib/python3.10/dist-packages (from huggingface-hub<1.0,>=0.14.1->transformers>=4.17.0->ktrain) (4.7.1)\n"
          ]
        }
      ]
    },
    {
      "cell_type": "code",
      "source": [
        "!pip show ktrain\n"
      ],
      "metadata": {
        "colab": {
          "base_uri": "https://localhost:8080/"
        },
        "id": "IQLuzCT8HWe7",
        "outputId": "5e554601-8cd3-4afb-9214-b5e056d7c7c5"
      },
      "execution_count": null,
      "outputs": [
        {
          "output_type": "stream",
          "name": "stdout",
          "text": [
            "Name: ktrain\n",
            "Version: 0.37.6\n",
            "Summary: ktrain is a wrapper for TensorFlow Keras that makes deep learning and AI more accessible and easier to apply\n",
            "Home-page: https://github.com/amaiya/ktrain\n",
            "Author: Arun S. Maiya\n",
            "Author-email: arun@maiya.net\n",
            "License: Apache License 2.0\n",
            "Location: /usr/local/lib/python3.10/dist-packages\n",
            "Requires: cchardet, chardet, fastprogress, jieba, joblib, keras-bert, langdetect, matplotlib, packaging, pandas, requests, scikit-learn, sentencepiece, syntok, tika, transformers, whoosh\n",
            "Required-by: \n"
          ]
        }
      ]
    },
    {
      "cell_type": "code",
      "source": [
        "import ktrain\n",
        "from ktrain import text"
      ],
      "metadata": {
        "id": "43wQB2VFEWEI"
      },
      "execution_count": null,
      "outputs": []
    },
    {
      "cell_type": "code",
      "source": [
        "text.print_text_classifiers()"
      ],
      "metadata": {
        "colab": {
          "base_uri": "https://localhost:8080/"
        },
        "id": "oGUGq5UMEkoF",
        "outputId": "eef44d56-9c3f-4481-b1a0-b7d7e8dd50ae"
      },
      "execution_count": null,
      "outputs": [
        {
          "output_type": "stream",
          "name": "stdout",
          "text": [
            "fasttext: a fastText-like model [http://arxiv.org/pdf/1607.01759.pdf]\n",
            "logreg: logistic regression using a trainable Embedding layer\n",
            "nbsvm: NBSVM model [http://www.aclweb.org/anthology/P12-2018]\n",
            "bigru: Bidirectional GRU with pretrained fasttext word vectors [https://fasttext.cc/docs/en/crawl-vectors.html]\n",
            "standard_gru: simple 2-layer GRU with randomly initialized embeddings\n",
            "bert: Bidirectional Encoder Representations from Transformers (BERT) from keras_bert [https://arxiv.org/abs/1810.04805]\n",
            "distilbert: distilled, smaller, and faster BERT from Hugging Face transformers [https://arxiv.org/abs/1910.01108]\n"
          ]
        }
      ]
    },
    {
      "cell_type": "code",
      "source": [
        "from tkinter import X\n",
        "target_cols = ['AL', 'MA', 'PPE', 'CDU', 'TP', 'OTH']\n"
      ],
      "metadata": {
        "id": "2Ndw0I26Eocv"
      },
      "execution_count": null,
      "outputs": []
    },
    {
      "cell_type": "code",
      "source": [
        "#### Multilabel\n",
        "(X_train,y_train),(X_valid,y_valid), preprocess=text.texts_from_df(train_df = train,\n",
        "                   text_column = 'Text',\n",
        "                   label_columns = target_cols,\n",
        "                   val_df = val,\n",
        "                   ngram_range=2,\n",
        "                   preprocess_mode='standard',\n",
        "                   max_features = 50000,\n",
        "                   maxlen = 256,\n",
        "                   )"
      ],
      "metadata": {
        "colab": {
          "base_uri": "https://localhost:8080/"
        },
        "id": "UleXkSliFJYZ",
        "outputId": "20d442b4-7782-4289-c881-b736c2963345"
      },
      "execution_count": null,
      "outputs": [
        {
          "output_type": "stream",
          "name": "stdout",
          "text": [
            "['AL', 'MA', 'PPE', 'CDU', 'TP', 'OTH']\n",
            "   AL  MA  PPE  CDU  TP  OTH\n",
            "0   0   0    0    0   0    1\n",
            "1   0   1    0    1   0    0\n",
            "2   0   0    0    1   0    0\n",
            "3   0   1    0    1   0    0\n",
            "4   0   1    0    0   0    0\n",
            "['AL', 'MA', 'PPE', 'CDU', 'TP', 'OTH']\n",
            "   AL  MA  PPE  CDU  TP  OTH\n",
            "0   1   1    0    0   0    0\n",
            "1   1   0    0    0   0    0\n",
            "2   0   0    0    1   1    0\n",
            "3   0   0    0    0   1    0\n",
            "4   0   1    0    0   0    0\n",
            "language: en\n",
            "Word Counts: 14509\n",
            "Nrows: 4066\n",
            "4066 train sequences\n",
            "train sequence lengths:\n",
            "\tmean : 124\n",
            "\t95percentile : 284\n",
            "\t99percentile : 477\n",
            "Adding 2-gram features\n",
            "max_features changed to 200924 with addition of ngrams\n",
            "Average train sequence length with ngrams: 247\n",
            "train (w/ngrams) sequence lengths:\n",
            "\tmean : 247\n",
            "\t95percentile : 567\n",
            "\t99percentile : 954\n",
            "x_train shape: (4066,256)\n",
            "y_train shape: (4066, 6)\n",
            "Is Multi-Label? True\n",
            "508 test sequences\n",
            "test sequence lengths:\n",
            "\tmean : 120\n",
            "\t95percentile : 276\n",
            "\t99percentile : 562\n",
            "Average test sequence length with ngrams: 215\n",
            "test (w/ngrams) sequence lengths:\n",
            "\tmean : 216\n",
            "\t95percentile : 503\n",
            "\t99percentile : 1020\n",
            "x_test shape: (508,256)\n",
            "y_test shape: (508, 6)\n"
          ]
        }
      ]
    },
    {
      "cell_type": "code",
      "source": [
        "#### For test set Processing\n",
        "(X_train,y_train), (X_test,y_test),preprocess=text.texts_from_df(train_df = train,\n",
        "                   text_column = 'Text',\n",
        "                   label_columns = target_cols,\n",
        "                   val_df = test,\n",
        "                    ngram_range=2,\n",
        "                   preprocess_mode='standard',\n",
        "                   max_features = 50000,\n",
        "                   maxlen = 256,\n",
        "                  )"
      ],
      "metadata": {
        "colab": {
          "base_uri": "https://localhost:8080/"
        },
        "id": "QlI3HiCwFKia",
        "outputId": "4eb4620e-ad52-402d-e7cd-e70db2c2d2f4"
      },
      "execution_count": null,
      "outputs": [
        {
          "output_type": "stream",
          "name": "stdout",
          "text": [
            "['AL', 'MA', 'PPE', 'CDU', 'TP', 'OTH']\n",
            "   AL  MA  PPE  CDU  TP  OTH\n",
            "0   0   0    0    0   0    1\n",
            "1   0   1    0    1   0    0\n",
            "2   0   0    0    1   0    0\n",
            "3   0   1    0    1   0    0\n",
            "4   0   1    0    0   0    0\n",
            "['AL', 'MA', 'PPE', 'CDU', 'TP', 'OTH']\n",
            "   AL  MA  PPE  CDU  TP  OTH\n",
            "0   0   1    1    0   0    0\n",
            "1   0   0    1    0   1    0\n",
            "2   0   0    0    0   0    1\n",
            "3   0   0    1    0   1    0\n",
            "4   0   0    0    0   0    1\n",
            "language: en\n",
            "Word Counts: 14509\n",
            "Nrows: 4066\n",
            "4066 train sequences\n",
            "train sequence lengths:\n",
            "\tmean : 124\n",
            "\t95percentile : 284\n",
            "\t99percentile : 477\n",
            "Adding 2-gram features\n",
            "max_features changed to 200924 with addition of ngrams\n",
            "Average train sequence length with ngrams: 247\n",
            "train (w/ngrams) sequence lengths:\n",
            "\tmean : 247\n",
            "\t95percentile : 567\n",
            "\t99percentile : 954\n",
            "x_train shape: (4066,256)\n",
            "y_train shape: (4066, 6)\n",
            "Is Multi-Label? True\n",
            "509 test sequences\n",
            "test sequence lengths:\n",
            "\tmean : 120\n",
            "\t95percentile : 281\n",
            "\t99percentile : 497\n",
            "Average test sequence length with ngrams: 215\n",
            "test (w/ngrams) sequence lengths:\n",
            "\tmean : 215\n",
            "\t95percentile : 505\n",
            "\t99percentile : 835\n",
            "x_test shape: (509,256)\n",
            "y_test shape: (509, 6)\n"
          ]
        }
      ]
    },
    {
      "cell_type": "markdown",
      "source": [
        "## Logistic Regression"
      ],
      "metadata": {
        "id": "5B154_K3HyGB"
      }
    },
    {
      "cell_type": "code",
      "source": [
        "model = text.text_classifier('logreg', (X_train,y_train), preproc=preprocess)\n",
        "learner = ktrain.get_learner(model, train_data=(X_train,y_train), val_data=(X_valid,y_valid))"
      ],
      "metadata": {
        "colab": {
          "base_uri": "https://localhost:8080/"
        },
        "id": "vD57m7JWGq7I",
        "outputId": "9ec97cb1-691d-4a52-8045-a78946e646c3"
      },
      "execution_count": null,
      "outputs": [
        {
          "output_type": "stream",
          "name": "stdout",
          "text": [
            "Is Multi-Label? True\n",
            "compiling word ID features...\n",
            "maxlen is 256\n",
            "done.\n"
          ]
        }
      ]
    },
    {
      "cell_type": "code",
      "source": [
        "model.summary()"
      ],
      "metadata": {
        "colab": {
          "base_uri": "https://localhost:8080/"
        },
        "id": "sMKHGHrZH2Qj",
        "outputId": "0b2d65e6-57da-4a8d-f96c-49056c22e7ce"
      },
      "execution_count": null,
      "outputs": [
        {
          "output_type": "stream",
          "name": "stdout",
          "text": [
            "Model: \"sequential_1\"\n",
            "_________________________________________________________________\n",
            " Layer (type)                Output Shape              Param #   \n",
            "=================================================================\n",
            " embedding_2 (Embedding)     (None, 256, 64)           12859136  \n",
            "                                                                 \n",
            " spatial_dropout1d_2 (Spatia  (None, 256, 64)          0         \n",
            " lDropout1D)                                                     \n",
            "                                                                 \n",
            " global_max_pooling1d_2 (Glo  (None, 64)               0         \n",
            " balMaxPooling1D)                                                \n",
            "                                                                 \n",
            " batch_normalization_1 (Batc  (None, 64)               256       \n",
            " hNormalization)                                                 \n",
            "                                                                 \n",
            " dense_3 (Dense)             (None, 64)                4160      \n",
            "                                                                 \n",
            " dropout_1 (Dropout)         (None, 64)                0         \n",
            "                                                                 \n",
            " dense_4 (Dense)             (None, 6)                 390       \n",
            "                                                                 \n",
            "=================================================================\n",
            "Total params: 12,863,942\n",
            "Trainable params: 12,863,814\n",
            "Non-trainable params: 128\n",
            "_________________________________________________________________\n"
          ]
        }
      ]
    },
    {
      "cell_type": "code",
      "source": [
        "learner.autofit(0.0005, 10)"
      ],
      "metadata": {
        "colab": {
          "base_uri": "https://localhost:8080/"
        },
        "id": "_DUySsP0H5C7",
        "outputId": "17a038d2-5299-4217-ceea-a3907f605ca5"
      },
      "execution_count": null,
      "outputs": [
        {
          "output_type": "stream",
          "name": "stdout",
          "text": [
            "\n",
            "\n",
            "begin training using triangular learning rate policy with max lr of 0.0005...\n",
            "Epoch 1/10\n",
            "128/128 [==============================] - 2s 8ms/step - loss: 0.7092 - binary_accuracy: 0.6177 - val_loss: 0.6273 - val_binary_accuracy: 0.7402\n",
            "Epoch 2/10\n",
            "128/128 [==============================] - 1s 7ms/step - loss: 0.5957 - binary_accuracy: 0.7054 - val_loss: 0.6207 - val_binary_accuracy: 0.7402\n",
            "Epoch 3/10\n",
            "128/128 [==============================] - 1s 7ms/step - loss: 0.5688 - binary_accuracy: 0.7223 - val_loss: 0.6053 - val_binary_accuracy: 0.7398\n",
            "Epoch 4/10\n",
            "128/128 [==============================] - 1s 7ms/step - loss: 0.5485 - binary_accuracy: 0.7314 - val_loss: 0.5782 - val_binary_accuracy: 0.7441\n",
            "Epoch 5/10\n",
            "128/128 [==============================] - 1s 7ms/step - loss: 0.5345 - binary_accuracy: 0.7391 - val_loss: 0.5450 - val_binary_accuracy: 0.7562\n",
            "Epoch 6/10\n",
            "128/128 [==============================] - 1s 7ms/step - loss: 0.5213 - binary_accuracy: 0.7468 - val_loss: 0.5205 - val_binary_accuracy: 0.7615\n",
            "Epoch 7/10\n",
            "128/128 [==============================] - 1s 8ms/step - loss: 0.5070 - binary_accuracy: 0.7560 - val_loss: 0.5038 - val_binary_accuracy: 0.7707\n",
            "Epoch 8/10\n",
            "128/128 [==============================] - 1s 8ms/step - loss: 0.4954 - binary_accuracy: 0.7634 - val_loss: 0.4904 - val_binary_accuracy: 0.7802\n",
            "Epoch 9/10\n",
            "128/128 [==============================] - 1s 8ms/step - loss: 0.4844 - binary_accuracy: 0.7692 - val_loss: 0.4786 - val_binary_accuracy: 0.7874\n",
            "Epoch 10/10\n",
            "128/128 [==============================] - 1s 8ms/step - loss: 0.4677 - binary_accuracy: 0.7781 - val_loss: 0.4687 - val_binary_accuracy: 0.7900\n"
          ]
        },
        {
          "output_type": "execute_result",
          "data": {
            "text/plain": [
              "<keras.callbacks.History at 0x7d5ffaa701c0>"
            ]
          },
          "metadata": {},
          "execution_count": 46
        }
      ]
    },
    {
      "cell_type": "code",
      "source": [
        "predictor = ktrain.get_predictor(learner.model, preprocess)"
      ],
      "metadata": {
        "id": "ZIoIORO8H9CE"
      },
      "execution_count": null,
      "outputs": []
    },
    {
      "cell_type": "code",
      "source": [
        "# save logreg model\n",
        "path= '/content/drive/MyDrive/Omar/AAAI-Submission/ML-Models/'\n",
        "predictor.save(path+'lr')"
      ],
      "metadata": {
        "id": "T4FnVgQJKBMu"
      },
      "execution_count": null,
      "outputs": []
    },
    {
      "cell_type": "code",
      "source": [
        "#load model\n",
        "path= '/content/drive/MyDrive/Omar/AAAI-Submission/ML-Models/'\n",
        "predictor = ktrain.load_predictor(path+'lr')"
      ],
      "metadata": {
        "id": "QNXWxgX6KKSh"
      },
      "execution_count": null,
      "outputs": []
    },
    {
      "cell_type": "code",
      "source": [
        "predictor.predict(test['Text'][0])"
      ],
      "metadata": {
        "colab": {
          "base_uri": "https://localhost:8080/"
        },
        "id": "EScwKPJ6KPCB",
        "outputId": "961b3678-546d-4896-ee41-fd55c13deda2"
      },
      "execution_count": null,
      "outputs": [
        {
          "output_type": "execute_result",
          "data": {
            "text/plain": [
              "[('AL', 0.21064168),\n",
              " ('MA', 0.45055705),\n",
              " ('PPE', 0.4258285),\n",
              " ('CDU', 0.40839165),\n",
              " ('TP', 0.33680677),\n",
              " ('OTH', 0.1751357)]"
            ]
          },
          "metadata": {},
          "execution_count": 100
        }
      ]
    },
    {
      "cell_type": "code",
      "source": [
        "y_pred = predictor.model.predict(X_test, verbose=0)\n",
        "new_pred = y_pred > 0.4\n",
        "new_labels = new_pred.astype('uint8')\n",
        "print(new_labels)"
      ],
      "metadata": {
        "id": "rIbDEnx9KRL3",
        "colab": {
          "base_uri": "https://localhost:8080/"
        },
        "outputId": "1f1c1632-18ac-4647-e9ef-14aa08656457"
      },
      "execution_count": null,
      "outputs": [
        {
          "output_type": "stream",
          "name": "stdout",
          "text": [
            "[[0 1 1 1 0 0]\n",
            " [0 0 1 0 1 0]\n",
            " [1 0 0 0 0 0]\n",
            " ...\n",
            " [0 0 0 0 0 0]\n",
            " [0 1 1 0 0 0]\n",
            " [0 1 1 1 0 0]]\n"
          ]
        }
      ]
    },
    {
      "cell_type": "code",
      "source": [
        "def saving_predictions(lst, mdl_nm):\n",
        "  labelss = ['AL', 'MA', 'PPE', 'CDU', 'TP', 'OTH']\n",
        "  xx = []\n",
        "  for ls in lst:\n",
        "      xy = []\n",
        "      for i in range(len(ls)):\n",
        "          if(ls[i]==1):\n",
        "            xy.append(labelss[i])\n",
        "      xx.append(xy)\n",
        "  print(len(xx), xx)\n",
        "  df = pd.DataFrame({'Predictions': xx})\n",
        "  pathx = '/content/drive/MyDrive/Omar/AAAI-Submission/ChatGPT-Exps/'\n",
        "  df.to_csv(pathx+f'{mdl_nm}-Predictions.csv', index= False)\n"
      ],
      "metadata": {
        "id": "C5fO8n-4sLBG"
      },
      "execution_count": null,
      "outputs": []
    },
    {
      "cell_type": "code",
      "source": [
        "saving_predictions(new_labels, 'LR')"
      ],
      "metadata": {
        "colab": {
          "base_uri": "https://localhost:8080/"
        },
        "id": "2NhzIgrrsTZE",
        "outputId": "a27615b6-f305-429c-9e75-7a17be29d248"
      },
      "execution_count": null,
      "outputs": [
        {
          "output_type": "stream",
          "name": "stdout",
          "text": [
            "509 [['MA', 'PPE', 'CDU'], ['PPE', 'TP'], ['AL'], ['MA'], [], ['PPE'], ['PPE', 'TP'], [], ['AL'], ['MA'], ['MA'], [], ['PPE', 'TP'], ['MA', 'PPE'], ['MA'], ['MA', 'PPE', 'CDU'], ['AL'], ['MA'], ['MA'], ['PPE', 'TP'], ['MA', 'PPE', 'CDU', 'TP'], ['MA', 'PPE'], ['MA'], [], [], [], ['AL'], ['PPE', 'TP'], ['MA', 'PPE', 'CDU'], ['PPE', 'TP'], [], [], [], ['MA', 'PPE'], ['AL'], [], ['AL'], ['PPE', 'TP'], ['AL'], ['MA', 'PPE', 'CDU'], [], [], ['MA', 'PPE'], [], ['PPE', 'TP'], ['MA', 'PPE', 'CDU'], ['PPE', 'TP'], ['AL'], ['MA', 'CDU'], ['MA'], ['PPE'], ['AL'], ['MA', 'PPE'], ['MA', 'PPE', 'CDU'], ['PPE', 'CDU', 'TP'], ['MA', 'CDU'], [], ['PPE', 'TP'], ['MA'], ['AL'], ['AL'], ['MA', 'PPE'], ['AL'], ['AL'], ['PPE'], ['MA', 'PPE', 'CDU'], ['PPE', 'TP'], ['MA', 'CDU'], [], ['MA', 'PPE', 'CDU', 'TP'], ['AL'], ['MA', 'PPE', 'CDU'], ['MA', 'PPE', 'CDU'], ['AL'], ['MA', 'CDU'], [], ['MA', 'PPE', 'CDU'], [], ['MA', 'PPE', 'CDU'], ['PPE', 'TP'], [], ['MA', 'PPE', 'TP'], [], ['AL'], [], ['MA'], ['MA', 'PPE', 'CDU', 'TP'], [], [], ['OTH'], ['MA', 'CDU'], ['AL'], ['PPE', 'TP'], ['MA', 'PPE', 'CDU'], [], ['AL'], [], ['MA', 'PPE', 'CDU'], ['MA', 'CDU'], ['PPE', 'CDU'], [], ['MA', 'PPE'], ['AL'], ['AL'], ['AL'], ['PPE', 'TP'], ['AL'], ['MA'], ['AL'], ['MA'], ['MA', 'PPE', 'CDU', 'TP'], ['AL'], ['PPE'], [], ['PPE', 'TP'], ['MA'], [], ['MA', 'PPE', 'CDU'], ['MA', 'CDU'], ['PPE', 'TP'], ['AL'], ['MA', 'PPE', 'CDU'], [], ['MA', 'CDU'], ['PPE', 'TP'], ['PPE', 'TP'], [], ['PPE'], [], ['PPE', 'TP'], ['MA', 'PPE', 'CDU'], ['MA'], ['MA', 'PPE'], ['MA', 'PPE', 'TP'], [], ['PPE'], ['PPE', 'CDU'], ['PPE', 'TP'], ['MA'], ['PPE', 'CDU'], ['AL', 'MA'], [], [], [], ['PPE', 'TP'], ['PPE', 'CDU', 'TP'], ['PPE', 'TP'], ['MA', 'PPE'], ['MA'], ['AL'], ['PPE'], ['AL'], ['MA'], ['PPE'], ['AL', 'TP'], ['MA', 'CDU'], ['MA', 'PPE', 'CDU'], ['MA', 'PPE', 'CDU'], ['PPE'], ['AL'], ['PPE', 'CDU', 'TP'], ['MA', 'PPE', 'CDU', 'TP'], [], ['MA', 'PPE'], ['PPE'], ['PPE', 'TP'], [], [], ['CDU', 'TP'], ['MA', 'CDU'], [], ['MA'], ['MA'], ['AL'], ['MA', 'PPE', 'CDU'], ['PPE'], ['MA', 'PPE', 'CDU'], ['AL'], [], [], ['MA', 'PPE', 'CDU'], ['MA', 'PPE', 'CDU'], [], ['MA', 'CDU'], [], [], ['MA', 'PPE', 'CDU'], [], ['PPE', 'TP'], ['PPE'], ['MA', 'CDU'], [], [], ['MA', 'CDU'], [], ['MA', 'PPE'], ['PPE', 'CDU', 'TP'], ['AL'], ['AL'], ['AL'], ['PPE', 'TP'], ['PPE', 'TP'], ['PPE', 'TP'], [], ['MA'], ['MA', 'PPE', 'CDU'], ['PPE', 'CDU', 'TP'], ['MA', 'PPE', 'CDU', 'TP'], ['PPE', 'CDU', 'TP'], ['MA'], ['AL'], ['MA', 'PPE'], ['PPE', 'CDU'], ['MA', 'PPE'], ['MA', 'PPE', 'CDU', 'TP'], ['MA', 'PPE'], ['MA', 'CDU'], ['MA'], ['AL'], ['PPE', 'CDU', 'TP'], ['PPE', 'TP'], [], ['PPE', 'TP'], ['PPE', 'CDU', 'TP'], ['PPE'], ['AL'], ['PPE', 'TP'], ['PPE', 'CDU', 'TP'], ['PPE'], ['PPE', 'TP'], [], ['PPE', 'TP'], ['MA', 'PPE', 'CDU'], ['PPE', 'TP'], ['AL'], ['MA', 'PPE', 'TP'], ['MA', 'PPE', 'CDU'], ['PPE', 'TP'], ['PPE', 'TP'], ['PPE', 'TP'], [], ['AL'], ['AL'], [], [], ['MA', 'CDU'], ['PPE', 'TP'], ['MA', 'CDU'], ['PPE', 'CDU', 'TP'], ['PPE', 'CDU', 'TP'], ['MA'], ['MA', 'CDU'], ['PPE', 'TP'], ['MA', 'PPE'], ['MA', 'PPE', 'CDU'], ['AL'], ['MA'], ['MA', 'PPE', 'CDU'], [], ['PPE', 'CDU'], [], ['AL'], ['AL'], ['PPE', 'TP'], ['PPE', 'TP'], ['MA', 'PPE'], ['MA'], ['PPE'], ['PPE'], ['PPE'], [], ['AL'], ['PPE', 'TP'], ['MA'], ['AL'], ['MA', 'PPE'], ['PPE'], [], ['MA', 'CDU'], ['PPE', 'TP'], [], ['PPE'], ['AL'], ['MA', 'CDU'], ['MA', 'CDU'], [], [], ['PPE'], ['MA'], ['PPE'], ['PPE'], ['MA', 'PPE', 'CDU'], [], ['MA', 'PPE', 'CDU'], ['MA'], ['MA'], ['MA'], ['MA', 'PPE', 'CDU'], ['AL'], ['PPE', 'TP'], ['MA', 'CDU'], ['MA', 'PPE', 'CDU'], ['MA', 'PPE', 'CDU', 'TP'], [], ['PPE', 'TP'], ['MA'], ['AL'], ['PPE', 'CDU', 'TP'], ['AL'], ['AL'], [], ['MA'], ['AL'], ['PPE', 'TP'], ['TP'], ['MA'], ['PPE', 'TP'], [], ['MA', 'CDU'], ['PPE', 'TP'], ['PPE', 'TP'], ['MA', 'PPE'], ['PPE', 'CDU', 'TP'], ['MA', 'PPE'], ['MA', 'PPE', 'CDU', 'TP'], ['MA', 'PPE', 'CDU'], ['PPE', 'TP'], [], ['MA'], [], ['MA', 'PPE', 'CDU', 'TP'], [], ['MA', 'PPE', 'CDU'], ['PPE', 'TP'], ['PPE'], ['PPE'], [], [], ['MA', 'PPE', 'CDU'], ['MA'], ['MA', 'PPE'], ['MA', 'PPE'], ['PPE'], ['MA', 'CDU'], ['MA', 'CDU'], ['MA', 'PPE', 'CDU'], ['MA'], ['AL'], ['AL'], ['MA', 'CDU'], ['MA', 'CDU'], ['MA'], ['MA'], ['PPE', 'TP'], ['AL'], [], ['PPE', 'TP'], ['AL'], ['MA', 'TP'], ['AL'], ['PPE'], ['MA'], ['PPE'], ['MA'], ['PPE', 'TP'], [], ['PPE', 'TP'], [], ['AL'], ['PPE'], ['MA', 'PPE'], ['PPE'], ['PPE', 'TP'], ['MA'], ['MA'], [], [], ['PPE', 'CDU', 'TP'], ['MA', 'PPE'], [], ['PPE'], ['MA', 'PPE', 'CDU'], ['AL'], ['MA', 'PPE'], ['AL'], ['PPE'], ['AL'], ['PPE', 'CDU', 'TP'], ['MA', 'PPE', 'CDU'], ['MA'], ['MA', 'PPE', 'CDU', 'TP'], ['AL'], [], ['PPE', 'TP'], ['PPE', 'TP'], ['PPE'], ['PPE'], ['PPE', 'TP'], ['MA'], ['MA'], ['MA'], ['MA', 'PPE', 'TP'], ['MA', 'PPE', 'CDU'], ['PPE', 'TP'], ['AL'], ['PPE', 'TP'], [], [], ['AL'], ['MA', 'PPE', 'CDU', 'TP'], ['MA', 'CDU'], ['MA', 'PPE', 'CDU'], ['PPE', 'TP'], ['PPE', 'TP'], ['PPE', 'TP'], ['MA', 'CDU'], ['MA', 'CDU'], ['MA'], ['MA', 'PPE', 'CDU', 'TP'], ['AL'], [], ['MA', 'PPE', 'CDU'], ['AL'], ['PPE', 'TP'], [], ['MA'], ['MA', 'PPE', 'CDU'], [], ['MA', 'PPE', 'CDU', 'TP'], ['MA'], ['PPE', 'TP'], ['MA', 'PPE', 'CDU'], [], [], ['PPE'], ['MA', 'CDU'], ['AL'], ['MA', 'PPE'], ['PPE', 'TP'], ['MA'], ['MA', 'PPE', 'CDU'], ['MA', 'PPE'], ['AL'], ['AL'], ['MA', 'PPE', 'CDU'], [], ['AL'], ['PPE', 'TP'], ['AL'], [], ['PPE', 'CDU', 'TP'], ['AL'], [], ['PPE', 'CDU', 'TP'], ['MA'], ['PPE', 'TP'], ['AL'], [], ['PPE', 'CDU', 'TP'], ['AL'], ['MA', 'PPE', 'CDU'], ['PPE', 'CDU', 'TP'], [], [], ['MA', 'CDU'], ['PPE', 'TP'], ['MA', 'CDU'], ['AL'], ['MA'], ['AL'], ['PPE'], ['PPE', 'TP'], ['MA', 'PPE', 'CDU'], ['PPE', 'TP'], ['MA', 'PPE'], [], ['PPE', 'CDU'], ['MA', 'PPE', 'TP'], [], ['MA', 'PPE', 'CDU'], ['MA'], ['MA'], [], ['PPE', 'TP'], ['PPE', 'CDU', 'TP'], ['MA', 'CDU'], ['AL'], ['AL'], ['AL'], ['PPE', 'CDU', 'TP'], ['AL'], [], [], ['MA', 'PPE', 'CDU', 'TP'], [], ['PPE', 'TP'], ['MA'], [], ['MA', 'PPE', 'CDU'], ['AL'], ['MA'], ['AL'], ['TP'], ['MA', 'CDU'], ['PPE', 'CDU', 'TP'], [], [], ['MA', 'PPE'], ['MA', 'PPE', 'CDU']]\n"
          ]
        }
      ]
    },
    {
      "cell_type": "code",
      "source": [
        "from sklearn.metrics import classification_report\n",
        "\n",
        "#Show precision and recall per genre\n",
        "print(classification_report(y_test, new_labels,target_names=target_cols))\n",
        "print(\"F1-Score:\",f1_score(y_test,new_labels,average='weighted'))\n",
        "print(\"Precision:\",precision_score(y_test,new_labels,average='weighted'))\n",
        "print(\"Recall:\",recall_score(y_test,new_labels,average='weighted'))\n",
        "\n"
      ],
      "metadata": {
        "colab": {
          "base_uri": "https://localhost:8080/"
        },
        "id": "NdXUYWdxKWyx",
        "outputId": "d606ed31-4087-49d1-e28c-01b8e383a619"
      },
      "execution_count": null,
      "outputs": [
        {
          "output_type": "stream",
          "name": "stdout",
          "text": [
            "              precision    recall  f1-score   support\n",
            "\n",
            "          AL       0.63      0.68      0.65        77\n",
            "          MA       0.61      0.64      0.63       180\n",
            "         PPE       0.49      0.66      0.56       174\n",
            "         CDU       0.71      0.57      0.63       160\n",
            "          TP       0.74      0.64      0.68       140\n",
            "         OTH       1.00      0.02      0.04        45\n",
            "\n",
            "   micro avg       0.61      0.60      0.61       776\n",
            "   macro avg       0.70      0.53      0.53       776\n",
            "weighted avg       0.65      0.60      0.59       776\n",
            " samples avg       0.51      0.58      0.51       776\n",
            "\n",
            "F1-Score: 0.5930820447546286\n",
            "Precision: 0.6531187615733789\n",
            "Recall: 0.5979381443298969\n"
          ]
        }
      ]
    },
    {
      "cell_type": "markdown",
      "source": [
        "##NBSVM"
      ],
      "metadata": {
        "id": "zeoeaqxiLNiu"
      }
    },
    {
      "cell_type": "code",
      "source": [
        "model = text.text_classifier('nbsvm', (X_train,y_train), preproc=preprocess)\n",
        "learner = ktrain.get_learner(model, train_data=(X_train,y_train), val_data=(X_valid,y_valid))"
      ],
      "metadata": {
        "colab": {
          "base_uri": "https://localhost:8080/"
        },
        "id": "PuUTZGYkLMqN",
        "outputId": "3a13457b-e3ce-4c12-b855-16e7f61d05c3"
      },
      "execution_count": null,
      "outputs": [
        {
          "output_type": "stream",
          "name": "stdout",
          "text": [
            "Is Multi-Label? True\n",
            "compiling word ID features...\n",
            "maxlen is 256\n",
            "done.\n"
          ]
        }
      ]
    },
    {
      "cell_type": "code",
      "source": [
        "model.summary()"
      ],
      "metadata": {
        "colab": {
          "base_uri": "https://localhost:8080/"
        },
        "id": "qUCyTc3ZKg9V",
        "outputId": "27c0eef8-f9e2-42cf-cdc9-504171c34c4a"
      },
      "execution_count": null,
      "outputs": [
        {
          "output_type": "stream",
          "name": "stdout",
          "text": [
            "Model: \"sequential_2\"\n",
            "_________________________________________________________________\n",
            " Layer (type)                Output Shape              Param #   \n",
            "=================================================================\n",
            " embedding_3 (Embedding)     (None, 256, 64)           12859136  \n",
            "                                                                 \n",
            " spatial_dropout1d_3 (Spatia  (None, 256, 64)          0         \n",
            " lDropout1D)                                                     \n",
            "                                                                 \n",
            " global_max_pooling1d_3 (Glo  (None, 64)               0         \n",
            " balMaxPooling1D)                                                \n",
            "                                                                 \n",
            " batch_normalization_2 (Batc  (None, 64)               256       \n",
            " hNormalization)                                                 \n",
            "                                                                 \n",
            " dense_5 (Dense)             (None, 64)                4160      \n",
            "                                                                 \n",
            " dropout_2 (Dropout)         (None, 64)                0         \n",
            "                                                                 \n",
            " dense_6 (Dense)             (None, 6)                 390       \n",
            "                                                                 \n",
            "=================================================================\n",
            "Total params: 12,863,942\n",
            "Trainable params: 12,863,814\n",
            "Non-trainable params: 128\n",
            "_________________________________________________________________\n"
          ]
        }
      ]
    },
    {
      "cell_type": "code",
      "source": [
        "learner.autofit(0.0005, 10)"
      ],
      "metadata": {
        "colab": {
          "base_uri": "https://localhost:8080/"
        },
        "id": "pGB8rt8wLVN0",
        "outputId": "235ddf05-f469-4393-f083-cedfb2400b02"
      },
      "execution_count": null,
      "outputs": [
        {
          "output_type": "stream",
          "name": "stdout",
          "text": [
            "\n",
            "\n",
            "begin training using triangular learning rate policy with max lr of 0.0005...\n",
            "Epoch 1/10\n",
            "128/128 [==============================] - 2s 8ms/step - loss: 0.7035 - binary_accuracy: 0.6206 - val_loss: 0.6283 - val_binary_accuracy: 0.7375\n",
            "Epoch 2/10\n",
            "128/128 [==============================] - 1s 7ms/step - loss: 0.5871 - binary_accuracy: 0.7094 - val_loss: 0.6203 - val_binary_accuracy: 0.7398\n",
            "Epoch 3/10\n",
            "128/128 [==============================] - 1s 7ms/step - loss: 0.5611 - binary_accuracy: 0.7279 - val_loss: 0.6023 - val_binary_accuracy: 0.7454\n",
            "Epoch 4/10\n",
            "128/128 [==============================] - 1s 7ms/step - loss: 0.5428 - binary_accuracy: 0.7361 - val_loss: 0.5657 - val_binary_accuracy: 0.7644\n",
            "Epoch 5/10\n",
            "128/128 [==============================] - 1s 7ms/step - loss: 0.5247 - binary_accuracy: 0.7458 - val_loss: 0.5244 - val_binary_accuracy: 0.7753\n",
            "Epoch 6/10\n",
            "128/128 [==============================] - 1s 7ms/step - loss: 0.5092 - binary_accuracy: 0.7536 - val_loss: 0.4984 - val_binary_accuracy: 0.7812\n",
            "Epoch 7/10\n",
            "128/128 [==============================] - 1s 7ms/step - loss: 0.4952 - binary_accuracy: 0.7635 - val_loss: 0.4813 - val_binary_accuracy: 0.7848\n",
            "Epoch 8/10\n",
            "128/128 [==============================] - 1s 7ms/step - loss: 0.4774 - binary_accuracy: 0.7763 - val_loss: 0.4685 - val_binary_accuracy: 0.7933\n",
            "Epoch 9/10\n",
            "128/128 [==============================] - 1s 7ms/step - loss: 0.4658 - binary_accuracy: 0.7793 - val_loss: 0.4567 - val_binary_accuracy: 0.7969\n",
            "Epoch 10/10\n",
            "128/128 [==============================] - 1s 8ms/step - loss: 0.4504 - binary_accuracy: 0.7891 - val_loss: 0.4472 - val_binary_accuracy: 0.8012\n"
          ]
        },
        {
          "output_type": "execute_result",
          "data": {
            "text/plain": [
              "<keras.callbacks.History at 0x7d5fdc78d9c0>"
            ]
          },
          "metadata": {},
          "execution_count": 55
        }
      ]
    },
    {
      "cell_type": "code",
      "source": [
        "predictor = ktrain.get_predictor(learner.model, preprocess)"
      ],
      "metadata": {
        "id": "7Bt8w8J3LX3y"
      },
      "execution_count": null,
      "outputs": []
    },
    {
      "cell_type": "code",
      "source": [
        "# save logreg model\n",
        "predictor.save(path+'nbsvm')"
      ],
      "metadata": {
        "id": "yMCTgtFCL1Rf"
      },
      "execution_count": null,
      "outputs": []
    },
    {
      "cell_type": "code",
      "source": [
        "#load model\n",
        "predictor = ktrain.load_predictor(path+'nbsvm')"
      ],
      "metadata": {
        "id": "ZfXRXAxCL6Vd"
      },
      "execution_count": null,
      "outputs": []
    },
    {
      "cell_type": "code",
      "source": [
        "y_pred = predictor.model.predict(X_test, verbose=0)\n",
        "new_pred = y_pred > 0.4\n",
        "new_labels = new_pred.astype('uint8')"
      ],
      "metadata": {
        "id": "R8lV9XsfMCJn"
      },
      "execution_count": null,
      "outputs": []
    },
    {
      "cell_type": "code",
      "source": [
        "saving_predictions(new_labels, 'NBSVM')"
      ],
      "metadata": {
        "colab": {
          "base_uri": "https://localhost:8080/"
        },
        "id": "_pMixcZNsgJn",
        "outputId": "bdb6702a-a9e1-420b-b4b7-089c92c3bc83"
      },
      "execution_count": null,
      "outputs": [
        {
          "output_type": "stream",
          "name": "stdout",
          "text": [
            "509 [['PPE'], ['PPE', 'TP'], [], ['PPE', 'TP'], ['MA', 'PPE', 'CDU'], ['PPE'], ['PPE', 'CDU', 'TP'], ['AL'], ['AL'], ['MA', 'PPE', 'CDU'], ['MA', 'CDU'], ['MA'], ['PPE', 'TP'], ['PPE', 'CDU', 'TP'], ['MA', 'PPE', 'CDU'], ['PPE', 'TP'], ['PPE', 'TP'], ['MA', 'CDU'], ['MA', 'PPE', 'CDU'], ['PPE', 'TP'], ['PPE', 'CDU', 'TP'], ['PPE', 'TP'], ['PPE', 'TP'], ['MA', 'CDU'], [], ['MA'], ['AL'], ['PPE', 'TP'], ['MA', 'PPE', 'CDU'], [], [], [], ['PPE', 'TP'], ['MA'], ['MA', 'PPE'], ['AL', 'PPE'], ['AL', 'MA', 'CDU'], ['PPE', 'TP'], ['AL'], ['MA', 'PPE', 'CDU'], ['CDU'], ['MA'], ['PPE', 'TP'], ['MA', 'PPE', 'CDU', 'TP'], ['MA', 'PPE'], ['MA', 'CDU'], ['TP'], ['AL'], ['AL'], ['PPE', 'TP'], ['PPE', 'TP'], ['AL'], ['MA', 'PPE'], ['MA', 'PPE', 'TP'], ['PPE', 'TP'], ['MA', 'PPE', 'CDU'], ['PPE', 'CDU', 'TP'], ['MA', 'PPE', 'TP'], ['MA', 'PPE', 'CDU'], ['AL'], [], ['PPE'], ['MA'], ['AL'], ['PPE', 'TP'], ['MA', 'PPE', 'CDU'], ['PPE'], ['MA', 'CDU'], ['MA', 'PPE', 'TP'], ['MA', 'PPE'], ['MA', 'PPE', 'CDU'], ['MA', 'PPE', 'CDU'], ['MA', 'PPE'], [], ['MA', 'CDU'], ['MA', 'PPE'], ['MA'], [], ['MA', 'CDU'], ['MA', 'PPE', 'CDU', 'TP'], [], ['PPE'], ['CDU'], ['AL'], ['MA', 'PPE', 'CDU'], ['MA'], ['MA', 'CDU'], [], [], [], ['MA'], ['AL'], ['PPE', 'TP'], ['MA', 'PPE'], ['AL'], ['AL'], [], ['MA', 'PPE', 'CDU'], ['MA', 'PPE', 'CDU'], ['MA', 'PPE', 'CDU', 'TP'], [], ['PPE', 'TP'], ['AL'], ['PPE', 'CDU', 'TP'], [], ['PPE', 'CDU', 'TP'], ['MA'], [], ['AL'], ['MA'], ['PPE', 'CDU', 'TP'], ['AL'], ['MA', 'PPE'], ['PPE'], ['PPE', 'TP'], ['MA'], ['MA', 'PPE', 'TP'], ['MA', 'PPE', 'CDU'], ['MA', 'CDU'], ['PPE', 'TP'], ['AL'], ['MA', 'PPE', 'TP'], ['MA', 'PPE', 'CDU'], ['PPE', 'CDU'], ['PPE', 'TP'], ['MA', 'CDU'], [], ['PPE', 'TP'], ['OTH'], ['MA', 'PPE'], ['MA', 'PPE', 'CDU'], ['MA'], ['MA'], ['PPE', 'CDU', 'TP'], [], ['MA', 'CDU'], ['PPE'], ['PPE', 'TP'], ['MA', 'PPE'], [], ['MA', 'PPE'], ['PPE', 'CDU', 'TP'], [], [], ['MA', 'PPE', 'TP'], ['MA', 'PPE', 'TP'], ['PPE', 'TP'], ['MA', 'PPE'], ['MA', 'PPE', 'CDU', 'TP'], [], [], ['AL'], ['MA'], ['PPE'], ['MA', 'CDU'], ['MA', 'PPE'], ['PPE', 'TP'], ['MA', 'PPE', 'CDU'], ['MA', 'PPE'], ['AL'], ['PPE', 'TP'], ['MA', 'PPE', 'CDU', 'TP'], ['MA', 'PPE', 'CDU', 'TP'], ['MA', 'PPE'], [], ['PPE', 'TP'], [], ['OTH'], ['MA', 'CDU'], ['MA', 'PPE', 'CDU'], ['AL'], ['MA'], ['MA'], ['MA', 'PPE'], ['PPE', 'TP'], ['PPE'], ['MA', 'PPE', 'CDU'], [], ['PPE', 'TP'], ['MA', 'PPE', 'CDU', 'TP'], ['MA', 'PPE', 'CDU'], ['MA', 'PPE', 'CDU'], ['PPE', 'TP'], ['MA', 'CDU'], [], ['PPE', 'TP'], ['MA', 'PPE'], [], ['PPE', 'TP'], ['MA', 'PPE'], ['MA', 'PPE', 'CDU'], [], [], ['MA', 'CDU'], [], ['PPE', 'TP'], ['PPE', 'TP'], ['AL'], ['CDU'], ['AL'], [], ['PPE', 'TP'], ['PPE', 'TP'], ['AL', 'MA'], ['MA', 'PPE'], ['MA', 'PPE', 'CDU'], ['MA', 'PPE', 'CDU'], ['MA', 'PPE', 'CDU'], ['MA', 'PPE', 'CDU', 'TP'], ['MA', 'PPE'], [], ['MA', 'PPE', 'TP'], ['MA'], ['MA'], ['MA', 'PPE', 'CDU'], ['MA', 'PPE', 'CDU'], ['MA', 'PPE', 'CDU'], ['MA'], ['AL'], ['PPE', 'TP'], ['PPE', 'TP'], ['MA', 'CDU'], ['PPE', 'TP'], ['PPE', 'TP'], ['MA', 'PPE', 'CDU'], ['MA', 'PPE', 'TP'], ['MA', 'PPE'], ['MA', 'PPE', 'CDU', 'TP'], ['PPE'], ['TP'], ['PPE'], ['PPE'], ['MA', 'PPE', 'CDU'], ['MA'], ['AL'], ['PPE', 'TP'], ['MA', 'PPE', 'CDU'], ['PPE', 'CDU'], ['MA', 'PPE', 'CDU'], ['PPE'], ['MA'], [], ['AL'], [], [], ['MA', 'PPE', 'CDU'], ['PPE', 'CDU', 'TP'], ['AL'], ['MA', 'PPE', 'TP'], ['PPE', 'TP'], ['MA'], ['MA'], ['MA', 'PPE', 'CDU', 'TP'], [], ['MA', 'PPE', 'CDU', 'TP'], ['AL'], ['MA'], ['MA', 'PPE', 'CDU'], ['MA', 'PPE', 'CDU'], ['PPE', 'CDU', 'TP'], ['PPE', 'TP'], ['AL'], ['AL'], ['MA'], ['PPE', 'TP'], ['MA'], ['MA', 'PPE', 'CDU'], ['MA', 'PPE', 'CDU'], ['PPE'], ['MA', 'PPE'], [], ['AL'], ['PPE', 'TP'], ['MA', 'CDU'], ['PPE'], ['MA', 'PPE', 'CDU'], ['PPE'], ['MA', 'PPE', 'CDU'], ['MA', 'CDU'], ['PPE', 'TP'], ['PPE', 'CDU', 'TP'], ['PPE'], ['PPE', 'CDU'], ['MA', 'PPE', 'CDU'], ['MA', 'CDU'], [], ['PPE'], ['PPE'], ['CDU'], ['MA', 'PPE', 'TP'], ['MA', 'PPE', 'CDU'], ['MA', 'PPE', 'CDU', 'TP'], [], ['MA', 'PPE', 'CDU'], ['MA'], ['MA', 'PPE'], ['AL'], ['MA', 'PPE'], ['AL'], ['PPE', 'TP'], ['MA', 'PPE', 'CDU'], ['MA', 'PPE', 'CDU'], ['MA', 'PPE', 'CDU'], [], ['PPE', 'CDU', 'TP'], [], ['AL'], ['PPE'], ['AL'], ['AL'], ['PPE', 'TP'], ['MA', 'PPE', 'CDU'], ['MA', 'CDU'], ['PPE', 'TP'], ['MA', 'PPE', 'CDU'], ['MA'], ['MA', 'PPE', 'CDU', 'TP'], [], ['MA'], ['PPE', 'TP'], ['PPE', 'TP'], [], ['PPE', 'CDU', 'TP'], ['MA', 'PPE', 'TP'], ['PPE', 'TP'], ['MA', 'PPE', 'CDU'], ['PPE'], [], ['MA'], ['MA'], ['PPE', 'TP'], ['PPE'], [], ['PPE', 'TP'], ['PPE'], [], ['MA'], ['MA'], ['MA', 'CDU'], [], ['MA', 'PPE', 'CDU'], ['MA', 'PPE'], ['PPE'], ['MA', 'PPE', 'CDU'], ['MA', 'PPE', 'CDU'], ['PPE'], ['MA', 'PPE', 'CDU'], ['MA', 'PPE', 'CDU', 'TP'], ['AL'], [], ['MA', 'CDU'], [], ['MA'], ['PPE', 'TP'], ['MA'], [], ['PPE', 'TP'], ['AL', 'MA'], ['TP'], ['PPE', 'TP'], ['MA'], [], ['MA', 'PPE', 'CDU'], ['MA'], ['PPE', 'TP'], [], ['PPE', 'TP'], [], ['PPE'], ['PPE', 'CDU', 'TP'], ['MA', 'PPE'], ['PPE', 'TP'], ['MA', 'PPE', 'TP'], ['MA', 'CDU'], ['AL', 'MA'], ['PPE', 'TP'], ['AL'], ['PPE', 'CDU', 'TP'], ['PPE'], [], ['PPE', 'TP'], ['MA', 'PPE'], [], ['PPE', 'TP'], ['AL'], ['MA', 'PPE', 'CDU', 'TP'], ['MA'], ['TP'], ['PPE', 'TP'], ['PPE', 'TP'], ['PPE', 'CDU', 'TP'], ['AL'], ['MA'], ['MA', 'PPE', 'TP'], ['PPE', 'TP'], [], ['PPE', 'TP'], ['PPE', 'TP'], [], ['MA', 'CDU'], ['MA'], ['PPE', 'TP'], ['MA', 'PPE', 'CDU'], ['MA', 'PPE', 'CDU'], ['AL', 'MA'], ['PPE', 'TP'], ['MA', 'PPE', 'CDU'], ['MA', 'PPE', 'CDU', 'TP'], ['AL'], ['PPE'], ['PPE', 'CDU'], ['MA', 'PPE', 'CDU'], ['PPE', 'TP'], ['PPE', 'TP'], ['PPE', 'TP'], ['MA', 'PPE', 'CDU'], ['MA', 'PPE', 'CDU'], ['MA', 'PPE', 'TP'], ['MA', 'PPE', 'CDU'], ['AL'], [], ['MA', 'PPE', 'CDU'], ['AL'], ['PPE', 'TP'], ['AL'], ['MA', 'PPE', 'CDU'], ['MA', 'PPE', 'CDU'], [], ['MA', 'PPE', 'CDU', 'TP'], [], ['PPE'], ['MA', 'PPE', 'TP'], ['MA', 'PPE'], [], ['MA', 'PPE', 'CDU', 'TP'], ['MA', 'PPE', 'CDU'], ['AL'], ['PPE', 'CDU', 'TP'], ['PPE', 'TP'], ['MA', 'PPE', 'CDU'], ['MA', 'CDU'], ['MA', 'PPE'], [], ['MA', 'PPE', 'CDU'], ['MA', 'PPE', 'CDU'], ['MA', 'PPE'], ['MA', 'PPE', 'CDU'], ['PPE', 'TP'], ['AL'], ['MA', 'PPE'], ['PPE', 'TP'], ['AL'], [], ['MA', 'PPE', 'TP'], ['MA', 'PPE', 'CDU'], ['TP'], ['AL'], [], ['MA', 'PPE', 'CDU', 'TP'], ['AL'], ['MA', 'PPE', 'CDU'], ['PPE', 'CDU', 'TP'], ['MA'], [], ['MA', 'PPE', 'CDU'], ['PPE', 'TP'], ['MA', 'PPE', 'CDU'], [], ['MA', 'PPE'], ['AL'], ['PPE', 'CDU', 'TP'], ['PPE', 'TP'], ['MA', 'PPE', 'CDU'], ['CDU', 'TP'], ['MA', 'PPE'], ['MA', 'PPE', 'CDU', 'TP'], [], ['PPE', 'CDU', 'TP'], [], ['MA', 'PPE', 'CDU'], ['MA'], ['MA', 'PPE', 'CDU'], ['PPE', 'CDU', 'TP'], ['PPE', 'TP'], ['PPE', 'CDU', 'TP'], ['MA', 'CDU'], [], ['AL'], ['AL'], ['PPE', 'TP'], [], ['MA'], ['AL'], ['PPE', 'TP'], ['MA', 'PPE', 'CDU', 'TP'], ['PPE'], [], [], ['MA', 'PPE', 'CDU', 'TP'], ['AL'], ['PPE', 'CDU'], ['AL'], ['TP'], [], ['PPE', 'TP'], [], ['MA', 'PPE', 'CDU'], ['MA', 'PPE', 'CDU'], ['MA', 'PPE', 'CDU']]\n"
          ]
        }
      ]
    },
    {
      "cell_type": "code",
      "source": [
        "from sklearn.metrics import classification_report\n",
        "\n",
        "#Show precision and recall per genre\n",
        "print(classification_report(y_test, new_labels,target_names=target_cols))\n",
        "print(\"F1-Score:\",f1_score(y_test,new_labels,average='weighted'))\n",
        "print(\"Precision:\",precision_score(y_test,new_labels,average='weighted'))\n",
        "print(\"Recall:\",recall_score(y_test,new_labels,average='weighted'))"
      ],
      "metadata": {
        "colab": {
          "base_uri": "https://localhost:8080/"
        },
        "id": "fU6P6kglMFOQ",
        "outputId": "96efa341-f03d-4ce8-d5cc-5bee991f7da6"
      },
      "execution_count": null,
      "outputs": [
        {
          "output_type": "stream",
          "name": "stdout",
          "text": [
            "              precision    recall  f1-score   support\n",
            "\n",
            "          AL       0.73      0.57      0.64        77\n",
            "          MA       0.58      0.73      0.65       180\n",
            "         PPE       0.44      0.75      0.56       174\n",
            "         CDU       0.61      0.62      0.62       160\n",
            "          TP       0.72      0.78      0.75       140\n",
            "         OTH       0.50      0.02      0.04        45\n",
            "\n",
            "   micro avg       0.58      0.66      0.62       776\n",
            "   macro avg       0.60      0.58      0.54       776\n",
            "weighted avg       0.59      0.66      0.60       776\n",
            " samples avg       0.52      0.62      0.54       776\n",
            "\n",
            "F1-Score: 0.6029703485522578\n",
            "Precision: 0.5924585848765298\n",
            "Recall: 0.6623711340206185\n"
          ]
        }
      ]
    },
    {
      "cell_type": "markdown",
      "source": [
        "## BiGRU"
      ],
      "metadata": {
        "id": "FJ9ksSZPnx-9"
      }
    },
    {
      "cell_type": "code",
      "source": [
        "#### Multilabel\n",
        "### DATA must be processed with ngram_range=1 for BiGRU model\n",
        "(X_train,y_train),(X_valid,y_valid), preprocess=text.texts_from_df(train_df = train,\n",
        "                   text_column = 'Text',\n",
        "                   label_columns = target_cols,\n",
        "                   val_df = val,\n",
        "                   ngram_range=1,\n",
        "                   preprocess_mode='standard',\n",
        "                   max_features = 50000,\n",
        "                   maxlen = 256,\n",
        "                   )\n",
        "#### For test set Processing\n",
        "(X_train,y_train), (X_test,y_test),preprocess=text.texts_from_df(train_df = train,\n",
        "                   text_column = 'Text',\n",
        "                   label_columns = target_cols,\n",
        "                   val_df = test,\n",
        "                    ngram_range=1,\n",
        "                   preprocess_mode='standard',\n",
        "                   max_features = 50000,\n",
        "                   maxlen = 256,\n",
        "                  )"
      ],
      "metadata": {
        "colab": {
          "base_uri": "https://localhost:8080/"
        },
        "id": "GEXiv2hyoKHY",
        "outputId": "8d3b6381-e98f-4cfc-d4ed-d1e9a09e5613"
      },
      "execution_count": null,
      "outputs": [
        {
          "output_type": "stream",
          "name": "stdout",
          "text": [
            "['AL', 'MA', 'PPE', 'CDU', 'TP', 'OTH']\n",
            "   AL  MA  PPE  CDU  TP  OTH\n",
            "0   0   0    0    0   0    1\n",
            "1   0   1    0    1   0    0\n",
            "2   0   0    0    1   0    0\n",
            "3   0   1    0    1   0    0\n",
            "4   0   1    0    0   0    0\n",
            "['AL', 'MA', 'PPE', 'CDU', 'TP', 'OTH']\n",
            "   AL  MA  PPE  CDU  TP  OTH\n",
            "0   1   1    0    0   0    0\n",
            "1   1   0    0    0   0    0\n",
            "2   0   0    0    1   1    0\n",
            "3   0   0    0    0   1    0\n",
            "4   0   1    0    0   0    0\n",
            "language: en\n",
            "Word Counts: 14509\n",
            "Nrows: 4066\n",
            "4066 train sequences\n",
            "train sequence lengths:\n",
            "\tmean : 124\n",
            "\t95percentile : 284\n",
            "\t99percentile : 477\n",
            "x_train shape: (4066,256)\n",
            "y_train shape: (4066, 6)\n",
            "Is Multi-Label? True\n",
            "508 test sequences\n",
            "test sequence lengths:\n",
            "\tmean : 120\n",
            "\t95percentile : 276\n",
            "\t99percentile : 562\n",
            "x_test shape: (508,256)\n",
            "y_test shape: (508, 6)\n",
            "['AL', 'MA', 'PPE', 'CDU', 'TP', 'OTH']\n",
            "   AL  MA  PPE  CDU  TP  OTH\n",
            "0   0   0    0    0   0    1\n",
            "1   0   1    0    1   0    0\n",
            "2   0   0    0    1   0    0\n",
            "3   0   1    0    1   0    0\n",
            "4   0   1    0    0   0    0\n",
            "['AL', 'MA', 'PPE', 'CDU', 'TP', 'OTH']\n",
            "   AL  MA  PPE  CDU  TP  OTH\n",
            "0   0   1    1    0   0    0\n",
            "1   0   0    1    0   1    0\n",
            "2   0   0    0    0   0    1\n",
            "3   0   0    1    0   1    0\n",
            "4   0   0    0    0   0    1\n",
            "language: en\n",
            "Word Counts: 14509\n",
            "Nrows: 4066\n",
            "4066 train sequences\n",
            "train sequence lengths:\n",
            "\tmean : 124\n",
            "\t95percentile : 284\n",
            "\t99percentile : 477\n",
            "x_train shape: (4066,256)\n",
            "y_train shape: (4066, 6)\n",
            "Is Multi-Label? True\n",
            "509 test sequences\n",
            "test sequence lengths:\n",
            "\tmean : 120\n",
            "\t95percentile : 281\n",
            "\t99percentile : 497\n",
            "x_test shape: (509,256)\n",
            "y_test shape: (509, 6)\n"
          ]
        }
      ]
    },
    {
      "cell_type": "code",
      "source": [
        "model = text.text_classifier('bigru', (X_train,y_train), preproc=preprocess)\n",
        "learner = ktrain.get_learner(model, train_data=(X_train,y_train), val_data=(X_valid,y_valid))"
      ],
      "metadata": {
        "colab": {
          "base_uri": "https://localhost:8080/",
          "height": 142
        },
        "id": "xWw194xMnzha",
        "outputId": "7947c1db-2edb-4195-82d3-beed943f052b"
      },
      "execution_count": null,
      "outputs": [
        {
          "output_type": "stream",
          "name": "stdout",
          "text": [
            "Is Multi-Label? True\n",
            "compiling word ID features...\n",
            "maxlen is 256\n",
            "word vectors will be loaded from: https://dl.fbaipublicfiles.com/fasttext/vectors-crawl/cc.en.300.vec.gz\n",
            "processing pretrained word vectors...\n",
            "loading pretrained word vectors...this may take a few moments...\n"
          ]
        },
        {
          "output_type": "display_data",
          "data": {
            "text/plain": [
              "<IPython.core.display.HTML object>"
            ],
            "text/html": [
              "\n",
              "<style>\n",
              "    /* Turns off some styling */\n",
              "    progress {\n",
              "        /* gets rid of default border in Firefox and Opera. */\n",
              "        border: none;\n",
              "        /* Needs to be in here for Safari polyfill so background images work as expected. */\n",
              "        background-size: auto;\n",
              "    }\n",
              "    progress:not([value]), progress:not([value])::-webkit-progress-bar {\n",
              "        background: repeating-linear-gradient(45deg, #7e7e7e, #7e7e7e 10px, #5c5c5c 10px, #5c5c5c 20px);\n",
              "    }\n",
              "    .progress-bar-interrupted, .progress-bar-interrupted::-webkit-progress-bar {\n",
              "        background: #F44336;\n",
              "    }\n",
              "</style>\n"
            ]
          },
          "metadata": {}
        },
        {
          "output_type": "display_data",
          "data": {
            "text/plain": [
              "<IPython.core.display.HTML object>"
            ],
            "text/html": []
          },
          "metadata": {}
        },
        {
          "output_type": "stream",
          "name": "stdout",
          "text": [
            "done.\n"
          ]
        }
      ]
    },
    {
      "cell_type": "code",
      "source": [
        "model.summary()"
      ],
      "metadata": {
        "colab": {
          "base_uri": "https://localhost:8080/"
        },
        "id": "ZmUw6otOn56M",
        "outputId": "f907fd7b-2adf-4fc4-e6e1-fc36613112ac"
      },
      "execution_count": null,
      "outputs": [
        {
          "output_type": "stream",
          "name": "stdout",
          "text": [
            "Model: \"model_1\"\n",
            "__________________________________________________________________________________________________\n",
            " Layer (type)                   Output Shape         Param #     Connected to                     \n",
            "==================================================================================================\n",
            " input_2 (InputLayer)           [(None, 256)]        0           []                               \n",
            "                                                                                                  \n",
            " embedding_4 (Embedding)        (None, 256, 300)     15000000    ['input_2[0][0]']                \n",
            "                                                                                                  \n",
            " spatial_dropout1d_4 (SpatialDr  (None, 256, 300)    0           ['embedding_4[0][0]']            \n",
            " opout1D)                                                                                         \n",
            "                                                                                                  \n",
            " bidirectional_1 (Bidirectional  (None, 256, 160)    183360      ['spatial_dropout1d_4[0][0]']    \n",
            " )                                                                                                \n",
            "                                                                                                  \n",
            " global_average_pooling1d_1 (Gl  (None, 160)         0           ['bidirectional_1[0][0]']        \n",
            " obalAveragePooling1D)                                                                            \n",
            "                                                                                                  \n",
            " global_max_pooling1d_4 (Global  (None, 160)         0           ['bidirectional_1[0][0]']        \n",
            " MaxPooling1D)                                                                                    \n",
            "                                                                                                  \n",
            " concatenate_1 (Concatenate)    (None, 320)          0           ['global_average_pooling1d_1[0][0\n",
            "                                                                 ]',                              \n",
            "                                                                  'global_max_pooling1d_4[0][0]'] \n",
            "                                                                                                  \n",
            " dense_7 (Dense)                (None, 6)            1926        ['concatenate_1[0][0]']          \n",
            "                                                                                                  \n",
            "==================================================================================================\n",
            "Total params: 15,185,286\n",
            "Trainable params: 15,185,286\n",
            "Non-trainable params: 0\n",
            "__________________________________________________________________________________________________\n"
          ]
        }
      ]
    },
    {
      "cell_type": "code",
      "source": [
        "learner.autofit(0.0005, 10)"
      ],
      "metadata": {
        "colab": {
          "base_uri": "https://localhost:8080/"
        },
        "id": "OXV7SAcSn6aB",
        "outputId": "ecd67eba-ee22-451f-8bbf-e89f6b7e0f0e"
      },
      "execution_count": null,
      "outputs": [
        {
          "output_type": "stream",
          "name": "stdout",
          "text": [
            "\n",
            "\n",
            "begin training using triangular learning rate policy with max lr of 0.0005...\n",
            "Epoch 1/10\n",
            "128/128 [==============================] - 7s 29ms/step - loss: 0.5271 - binary_accuracy: 0.7377 - val_loss: 0.4726 - val_binary_accuracy: 0.7641\n",
            "Epoch 2/10\n",
            "128/128 [==============================] - 3s 25ms/step - loss: 0.4251 - binary_accuracy: 0.7952 - val_loss: 0.3976 - val_binary_accuracy: 0.8228\n",
            "Epoch 3/10\n",
            "128/128 [==============================] - 3s 23ms/step - loss: 0.3625 - binary_accuracy: 0.8361 - val_loss: 0.3593 - val_binary_accuracy: 0.8363\n",
            "Epoch 4/10\n",
            "128/128 [==============================] - 3s 25ms/step - loss: 0.3190 - binary_accuracy: 0.8606 - val_loss: 0.3434 - val_binary_accuracy: 0.8461\n",
            "Epoch 5/10\n",
            "128/128 [==============================] - 3s 23ms/step - loss: 0.2886 - binary_accuracy: 0.8772 - val_loss: 0.3290 - val_binary_accuracy: 0.8497\n",
            "Epoch 6/10\n",
            "128/128 [==============================] - 3s 24ms/step - loss: 0.2611 - binary_accuracy: 0.8911 - val_loss: 0.3242 - val_binary_accuracy: 0.8520\n",
            "Epoch 7/10\n",
            "128/128 [==============================] - 3s 24ms/step - loss: 0.2359 - binary_accuracy: 0.9061 - val_loss: 0.3221 - val_binary_accuracy: 0.8570\n",
            "Epoch 8/10\n",
            "128/128 [==============================] - 3s 23ms/step - loss: 0.2142 - binary_accuracy: 0.9184 - val_loss: 0.3241 - val_binary_accuracy: 0.8540\n",
            "Epoch 9/10\n",
            "128/128 [==============================] - 3s 23ms/step - loss: 0.1955 - binary_accuracy: 0.9274 - val_loss: 0.3281 - val_binary_accuracy: 0.8560\n",
            "Epoch 10/10\n",
            "128/128 [==============================] - 3s 23ms/step - loss: 0.1779 - binary_accuracy: 0.9343 - val_loss: 0.3322 - val_binary_accuracy: 0.8543\n"
          ]
        },
        {
          "output_type": "execute_result",
          "data": {
            "text/plain": [
              "<keras.callbacks.History at 0x7d5e5162fcd0>"
            ]
          },
          "metadata": {},
          "execution_count": 64
        }
      ]
    },
    {
      "cell_type": "code",
      "source": [
        "predictor = ktrain.get_predictor(learner.model, preprocess)\n",
        "# save logreg model\n",
        "predictor.save(path+'bigru')"
      ],
      "metadata": {
        "id": "Ul01P4dDoicz"
      },
      "execution_count": null,
      "outputs": []
    },
    {
      "cell_type": "code",
      "source": [
        "#load model\n",
        "predictor = ktrain.load_predictor(path+'bigru')"
      ],
      "metadata": {
        "id": "gvLsoKuoot2U"
      },
      "execution_count": null,
      "outputs": []
    },
    {
      "cell_type": "code",
      "source": [
        "y_pred = predictor.model.predict(X_test, verbose=0)\n",
        "new_pred = y_pred > 0.45\n",
        "new_labels = new_pred.astype('uint8')"
      ],
      "metadata": {
        "id": "F8SGdzWTozIA"
      },
      "execution_count": null,
      "outputs": []
    },
    {
      "cell_type": "code",
      "source": [
        "saving_predictions(new_labels, 'BiGRU')"
      ],
      "metadata": {
        "colab": {
          "base_uri": "https://localhost:8080/"
        },
        "id": "saAw2m28ss0B",
        "outputId": "6fc4a1b3-db2f-4a83-f152-905187a466c9"
      },
      "execution_count": null,
      "outputs": [
        {
          "output_type": "stream",
          "name": "stdout",
          "text": [
            "509 [['MA'], ['PPE', 'TP'], ['OTH'], ['MA', 'PPE'], [], ['PPE', 'TP'], ['MA', 'PPE', 'CDU', 'TP'], ['AL', 'OTH'], ['AL', 'OTH'], ['CDU'], [], ['PPE'], ['TP'], ['MA', 'PPE'], ['MA'], ['CDU', 'TP'], ['OTH'], ['MA', 'PPE'], ['MA'], ['PPE', 'TP'], ['MA', 'PPE', 'CDU'], ['PPE', 'TP'], ['TP'], ['MA', 'CDU'], [], ['PPE', 'OTH'], ['AL'], ['TP'], ['MA', 'CDU'], ['OTH'], ['MA'], ['OTH'], ['PPE', 'TP'], [], ['AL'], ['AL'], ['AL'], ['PPE', 'TP'], ['OTH'], ['MA', 'CDU'], ['CDU'], ['OTH'], ['CDU'], ['PPE', 'TP'], ['PPE'], [], ['TP'], ['AL'], ['MA'], ['TP'], ['PPE', 'CDU', 'TP'], ['AL'], ['MA'], ['MA', 'CDU'], ['TP'], ['MA', 'CDU'], ['CDU', 'TP'], ['PPE', 'TP'], ['PPE', 'CDU'], ['AL'], ['AL'], ['PPE'], ['AL'], [], ['PPE', 'CDU', 'TP'], ['MA', 'CDU'], ['PPE', 'TP'], ['MA', 'CDU'], ['MA', 'PPE', 'TP'], [], [], ['MA', 'CDU'], ['MA'], [], ['MA'], [], ['MA', 'PPE'], ['PPE', 'TP'], ['MA', 'CDU'], ['PPE', 'TP'], ['TP'], ['MA', 'PPE'], ['CDU'], ['AL'], [], ['MA'], [], ['OTH'], ['AL'], ['OTH'], ['CDU'], ['AL'], ['PPE', 'TP'], ['MA', 'PPE'], ['AL'], ['AL'], ['OTH'], ['CDU'], ['MA', 'PPE'], ['PPE', 'CDU'], ['OTH'], ['MA', 'PPE', 'TP'], ['AL', 'OTH'], [], ['AL'], ['PPE', 'TP'], [], ['OTH'], ['AL'], ['MA'], ['CDU', 'TP'], ['AL'], ['PPE', 'TP'], ['OTH'], ['PPE', 'TP'], ['MA'], ['MA', 'PPE', 'CDU'], ['MA', 'CDU'], ['MA', 'CDU'], ['PPE', 'TP'], ['AL'], ['MA', 'CDU'], ['PPE', 'TP'], [], ['TP'], ['MA', 'PPE', 'CDU'], ['PPE'], ['TP'], ['OTH'], ['MA', 'PPE'], ['CDU', 'TP'], ['MA', 'OTH'], ['MA', 'PPE'], ['MA'], ['MA'], ['AL'], ['OTH'], ['PPE', 'TP'], ['MA'], ['CDU'], ['AL'], ['AL', 'CDU', 'TP'], ['AL'], ['OTH'], ['PPE'], ['MA', 'PPE', 'CDU'], ['PPE', 'TP'], ['MA'], ['PPE', 'CDU'], ['OTH'], ['PPE', 'OTH'], ['AL', 'MA'], ['MA'], ['PPE', 'CDU'], [], ['MA'], ['PPE', 'TP'], ['MA', 'CDU'], ['PPE', 'TP'], ['AL'], ['TP'], ['PPE', 'TP'], ['MA', 'PPE', 'CDU'], ['MA'], ['OTH'], ['PPE', 'TP'], ['OTH'], ['PPE'], ['CDU'], ['MA', 'CDU'], ['AL'], ['MA'], ['MA'], ['AL'], ['MA', 'CDU'], ['PPE', 'TP'], ['MA'], ['AL', 'OTH'], ['PPE', 'CDU'], ['PPE', 'CDU', 'TP'], ['MA', 'PPE', 'CDU'], ['MA', 'CDU'], ['PPE', 'TP'], ['CDU'], ['OTH'], ['PPE', 'CDU', 'TP'], ['MA', 'PPE'], ['AL'], ['TP'], [], ['CDU'], ['OTH'], ['OTH'], ['MA', 'CDU'], ['AL'], ['PPE', 'TP'], ['TP'], ['AL'], ['CDU', 'TP'], ['AL'], ['PPE', 'TP'], ['TP'], ['CDU', 'TP'], ['OTH'], ['MA', 'PPE'], ['MA', 'CDU'], ['CDU'], ['PPE'], ['PPE', 'CDU', 'TP'], ['MA'], ['AL'], ['MA', 'PPE', 'CDU', 'TP'], ['PPE'], ['MA', 'CDU'], ['MA', 'PPE', 'CDU'], ['MA'], ['MA', 'CDU'], ['MA'], ['MA'], ['AL', 'CDU'], ['MA', 'TP'], ['MA'], ['TP'], ['PPE', 'TP'], ['MA', 'PPE', 'TP'], ['AL', 'CDU'], ['PPE'], ['PPE', 'TP'], [], ['PPE', 'TP'], ['PPE'], ['TP'], ['MA', 'PPE', 'CDU'], ['MA'], ['AL'], ['MA', 'TP'], ['PPE', 'CDU', 'TP'], ['PPE', 'CDU', 'TP'], ['CDU'], ['PPE', 'TP'], ['OTH'], ['OTH'], ['AL'], ['PPE'], ['OTH'], ['MA', 'CDU'], ['TP'], ['MA'], ['AL'], ['MA', 'CDU', 'TP'], ['MA'], ['MA'], ['PPE', 'TP'], ['MA'], ['MA', 'PPE'], ['AL'], ['MA'], ['PPE'], ['MA', 'PPE', 'CDU', 'TP'], ['MA', 'CDU'], ['MA', 'PPE', 'TP'], ['AL'], ['AL'], ['PPE'], ['TP'], ['MA'], ['MA'], ['PPE', 'TP'], ['PPE'], ['PPE'], ['OTH'], ['AL', 'TP'], ['PPE', 'TP'], ['MA'], [], ['MA'], ['PPE'], ['AL', 'CDU'], ['MA', 'CDU'], ['PPE', 'TP'], ['MA', 'PPE', 'CDU'], ['PPE'], ['AL', 'CDU'], ['MA', 'PPE', 'CDU'], ['CDU', 'TP'], ['PPE'], ['PPE'], ['PPE'], ['CDU'], ['MA', 'PPE', 'TP'], ['MA', 'CDU'], ['PPE', 'CDU'], [], ['MA', 'CDU'], ['MA'], ['MA'], ['MA'], ['MA', 'PPE', 'CDU'], ['AL'], ['TP'], ['MA', 'CDU'], ['CDU'], ['MA', 'PPE'], ['OTH'], ['CDU', 'TP'], ['MA'], ['AL'], ['PPE', 'CDU', 'TP'], ['AL'], ['AL'], ['PPE', 'TP'], ['MA'], [], ['PPE', 'TP'], ['MA'], ['MA'], ['PPE', 'TP'], ['PPE', 'OTH'], ['MA'], ['PPE', 'TP'], ['TP'], ['PPE'], ['PPE', 'TP'], ['MA', 'TP'], ['TP'], ['MA', 'PPE', 'CDU'], ['PPE', 'TP'], ['PPE'], ['MA'], ['AL'], ['PPE', 'TP'], [], ['MA', 'PPE', 'CDU'], ['PPE', 'TP'], ['PPE', 'TP'], ['OTH'], ['MA'], ['AL'], ['MA', 'CDU'], ['MA', 'CDU'], ['MA'], ['MA', 'PPE'], ['PPE'], ['MA', 'PPE', 'CDU', 'TP'], ['CDU'], ['PPE', 'TP'], ['MA'], ['AL', 'CDU'], ['CDU'], ['CDU'], ['MA'], ['MA', 'PPE'], ['MA'], ['PPE', 'TP'], ['OTH'], ['OTH'], ['TP'], ['AL'], ['MA', 'TP'], [], [], [], ['MA'], ['PPE'], ['PPE', 'TP'], ['AL'], ['PPE', 'TP'], ['MA', 'PPE'], [], [], ['MA', 'PPE'], ['PPE', 'TP'], ['PPE', 'TP'], ['MA', 'CDU'], [], ['PPE'], ['AL'], ['PPE', 'CDU', 'TP'], ['PPE'], ['OTH'], ['MA'], [], ['AL'], ['PPE', 'TP'], [], ['PPE', 'CDU', 'TP'], [], ['CDU'], ['PPE', 'CDU', 'TP'], [], ['PPE', 'CDU', 'TP'], ['AL'], ['MA'], ['PPE', 'TP'], ['PPE', 'TP'], [], ['TP'], ['PPE', 'TP'], ['MA'], ['MA', 'CDU'], ['MA'], ['PPE', 'TP'], ['MA', 'PPE', 'CDU'], ['MA', 'PPE', 'CDU', 'TP'], ['AL'], ['TP'], ['MA'], ['MA', 'PPE'], ['AL', 'CDU'], ['MA', 'PPE', 'CDU'], ['CDU'], ['MA', 'PPE', 'CDU'], ['PPE', 'TP'], ['PPE', 'TP'], ['PPE', 'TP'], ['MA'], ['CDU'], ['PPE', 'CDU', 'TP'], ['MA', 'PPE', 'CDU'], ['AL'], ['OTH'], ['MA', 'CDU'], ['AL'], ['PPE', 'TP'], ['OTH'], ['CDU'], ['MA', 'PPE', 'CDU'], ['TP'], ['MA', 'CDU', 'TP'], [], ['TP'], ['MA', 'CDU'], ['PPE', 'CDU'], ['PPE'], [], ['MA', 'PPE', 'CDU'], ['AL'], ['PPE', 'TP'], ['PPE', 'CDU', 'TP'], ['PPE', 'TP'], ['MA', 'CDU'], ['MA', 'TP'], [], ['MA', 'CDU'], ['CDU', 'TP'], ['MA'], ['MA'], ['PPE'], ['AL'], ['MA'], ['PPE', 'TP'], ['AL'], ['MA'], ['TP'], ['MA'], ['PPE', 'TP'], ['AL'], ['OTH'], ['MA', 'PPE', 'CDU'], ['AL'], ['MA', 'PPE', 'CDU'], ['CDU', 'TP'], ['OTH'], ['TP'], ['MA', 'CDU'], ['TP'], ['MA', 'CDU'], ['MA'], ['MA'], ['AL'], ['PPE', 'CDU', 'TP'], ['TP'], ['MA', 'CDU'], ['TP'], ['MA', 'PPE'], ['AL', 'CDU'], [], ['CDU', 'TP'], ['OTH'], ['MA', 'CDU'], ['CDU'], ['PPE'], ['CDU', 'TP'], ['PPE', 'TP'], ['CDU', 'TP'], ['CDU'], ['AL', 'CDU'], ['AL'], ['AL'], ['PPE', 'CDU', 'TP'], ['CDU'], ['MA'], ['MA', 'CDU'], ['CDU', 'TP'], ['PPE', 'TP'], ['PPE', 'TP'], ['CDU'], [], ['MA', 'PPE', 'CDU'], ['AL'], ['MA'], ['AL'], ['PPE', 'TP'], ['CDU'], ['CDU', 'TP'], ['OTH'], ['MA', 'CDU'], ['MA'], ['MA', 'CDU']]\n"
          ]
        }
      ]
    },
    {
      "cell_type": "code",
      "source": [
        "from sklearn.metrics import classification_report\n",
        "\n",
        "#Show precision and recall per genre\n",
        "print(classification_report(y_test, new_labels,target_names=target_cols))\n",
        "print(\"F1-Score:\",f1_score(y_test,new_labels,average='weighted'))\n",
        "print(\"Precision:\",precision_score(y_test,new_labels,average='weighted'))\n",
        "print(\"Recall:\",recall_score(y_test,new_labels,average='weighted'))"
      ],
      "metadata": {
        "colab": {
          "base_uri": "https://localhost:8080/"
        },
        "id": "K3H-8j7Lo22A",
        "outputId": "62f12de2-6296-45bb-f9f5-45115d0da801"
      },
      "execution_count": null,
      "outputs": [
        {
          "output_type": "stream",
          "name": "stdout",
          "text": [
            "              precision    recall  f1-score   support\n",
            "\n",
            "          AL       0.72      0.69      0.70        77\n",
            "          MA       0.73      0.68      0.70       180\n",
            "         PPE       0.61      0.61      0.61       174\n",
            "         CDU       0.80      0.72      0.76       160\n",
            "          TP       0.80      0.84      0.82       140\n",
            "         OTH       0.51      0.51      0.51        45\n",
            "\n",
            "   micro avg       0.71      0.69      0.70       776\n",
            "   macro avg       0.69      0.67      0.68       776\n",
            "weighted avg       0.72      0.69      0.70       776\n",
            " samples avg       0.69      0.69      0.66       776\n",
            "\n",
            "F1-Score: 0.7025307201887028\n",
            "Precision: 0.7159478752910313\n",
            "Recall: 0.6907216494845361\n"
          ]
        }
      ]
    },
    {
      "cell_type": "markdown",
      "source": [
        "## Fasttext model"
      ],
      "metadata": {
        "id": "PJoNOUtEo6fy"
      }
    },
    {
      "cell_type": "code",
      "source": [
        "model = text.text_classifier('fasttext', (X_train,y_train), preproc=preprocess)\n",
        "learner = ktrain.get_learner(model, train_data=(X_train,y_train), val_data=(X_valid,y_valid))"
      ],
      "metadata": {
        "colab": {
          "base_uri": "https://localhost:8080/"
        },
        "id": "qGjMTnSvo6Nh",
        "outputId": "5660af90-38d8-49d7-db11-7d27df7bc5d6"
      },
      "execution_count": null,
      "outputs": [
        {
          "output_type": "stream",
          "name": "stdout",
          "text": [
            "Is Multi-Label? True\n",
            "compiling word ID features...\n",
            "maxlen is 256\n",
            "done.\n"
          ]
        }
      ]
    },
    {
      "cell_type": "code",
      "source": [
        "model.summary()"
      ],
      "metadata": {
        "colab": {
          "base_uri": "https://localhost:8080/"
        },
        "id": "WcxyX8rGpKW_",
        "outputId": "e8025330-bfb8-4025-860c-b5005a4f9631"
      },
      "execution_count": null,
      "outputs": [
        {
          "output_type": "stream",
          "name": "stdout",
          "text": [
            "Model: \"sequential_3\"\n",
            "_________________________________________________________________\n",
            " Layer (type)                Output Shape              Param #   \n",
            "=================================================================\n",
            " embedding_5 (Embedding)     (None, 256, 64)           3200000   \n",
            "                                                                 \n",
            " spatial_dropout1d_5 (Spatia  (None, 256, 64)          0         \n",
            " lDropout1D)                                                     \n",
            "                                                                 \n",
            " global_max_pooling1d_5 (Glo  (None, 64)               0         \n",
            " balMaxPooling1D)                                                \n",
            "                                                                 \n",
            " batch_normalization_3 (Batc  (None, 64)               256       \n",
            " hNormalization)                                                 \n",
            "                                                                 \n",
            " dense_8 (Dense)             (None, 64)                4160      \n",
            "                                                                 \n",
            " dropout_3 (Dropout)         (None, 64)                0         \n",
            "                                                                 \n",
            " dense_9 (Dense)             (None, 6)                 390       \n",
            "                                                                 \n",
            "=================================================================\n",
            "Total params: 3,204,806\n",
            "Trainable params: 3,204,678\n",
            "Non-trainable params: 128\n",
            "_________________________________________________________________\n"
          ]
        }
      ]
    },
    {
      "cell_type": "code",
      "source": [
        "learner.autofit(0.0005, 10)"
      ],
      "metadata": {
        "colab": {
          "base_uri": "https://localhost:8080/"
        },
        "id": "IwMMsue7pL6S",
        "outputId": "4268462b-65cb-4ee4-ffc0-abe7f2a79832"
      },
      "execution_count": null,
      "outputs": [
        {
          "output_type": "stream",
          "name": "stdout",
          "text": [
            "\n",
            "\n",
            "begin training using triangular learning rate policy with max lr of 0.0005...\n",
            "Epoch 1/10\n",
            "128/128 [==============================] - 2s 7ms/step - loss: 0.7131 - binary_accuracy: 0.6147 - val_loss: 0.6192 - val_binary_accuracy: 0.7402\n",
            "Epoch 2/10\n",
            "128/128 [==============================] - 1s 6ms/step - loss: 0.5788 - binary_accuracy: 0.7216 - val_loss: 0.6054 - val_binary_accuracy: 0.7474\n",
            "Epoch 3/10\n",
            "128/128 [==============================] - 1s 6ms/step - loss: 0.5496 - binary_accuracy: 0.7359 - val_loss: 0.5788 - val_binary_accuracy: 0.7628\n",
            "Epoch 4/10\n",
            "128/128 [==============================] - 1s 6ms/step - loss: 0.5335 - binary_accuracy: 0.7430 - val_loss: 0.5375 - val_binary_accuracy: 0.7710\n",
            "Epoch 5/10\n",
            "128/128 [==============================] - 1s 6ms/step - loss: 0.5124 - binary_accuracy: 0.7557 - val_loss: 0.4950 - val_binary_accuracy: 0.7854\n",
            "Epoch 6/10\n",
            "128/128 [==============================] - 1s 6ms/step - loss: 0.4970 - binary_accuracy: 0.7642 - val_loss: 0.4691 - val_binary_accuracy: 0.7884\n",
            "Epoch 7/10\n",
            "128/128 [==============================] - 1s 6ms/step - loss: 0.4850 - binary_accuracy: 0.7710 - val_loss: 0.4515 - val_binary_accuracy: 0.7969\n",
            "Epoch 8/10\n",
            "128/128 [==============================] - 1s 6ms/step - loss: 0.4738 - binary_accuracy: 0.7741 - val_loss: 0.4386 - val_binary_accuracy: 0.8012\n",
            "Epoch 9/10\n",
            "128/128 [==============================] - 1s 6ms/step - loss: 0.4644 - binary_accuracy: 0.7800 - val_loss: 0.4303 - val_binary_accuracy: 0.8071\n",
            "Epoch 10/10\n",
            "128/128 [==============================] - 1s 6ms/step - loss: 0.4598 - binary_accuracy: 0.7830 - val_loss: 0.4229 - val_binary_accuracy: 0.8127\n"
          ]
        },
        {
          "output_type": "execute_result",
          "data": {
            "text/plain": [
              "<keras.callbacks.History at 0x7d5ffc0e6aa0>"
            ]
          },
          "metadata": {},
          "execution_count": 73
        }
      ]
    },
    {
      "cell_type": "code",
      "source": [
        "predictor = ktrain.get_predictor(learner.model, preprocess)\n",
        "# save logreg model\n",
        "predictor.save(path+'fasttext')"
      ],
      "metadata": {
        "id": "sPlJNquLpOpX"
      },
      "execution_count": null,
      "outputs": []
    },
    {
      "cell_type": "code",
      "source": [
        "#load model\n",
        "predictor = ktrain.load_predictor(path+'fasttext')"
      ],
      "metadata": {
        "id": "M0Y2Pv7VpRcJ"
      },
      "execution_count": null,
      "outputs": []
    },
    {
      "cell_type": "code",
      "source": [
        "y_pred = predictor.model.predict(X_test, verbose=0)\n",
        "new_pred = y_pred > 0.4\n",
        "new_labels = new_pred.astype('uint8')"
      ],
      "metadata": {
        "id": "bGurV9J3pWG9"
      },
      "execution_count": null,
      "outputs": []
    },
    {
      "cell_type": "code",
      "source": [
        "saving_predictions(new_labels, 'FastText')"
      ],
      "metadata": {
        "colab": {
          "base_uri": "https://localhost:8080/"
        },
        "id": "ZWC8Bti4tLN5",
        "outputId": "ae23b951-6360-48f8-ed6e-6a8f339815b8"
      },
      "execution_count": null,
      "outputs": [
        {
          "output_type": "stream",
          "name": "stdout",
          "text": [
            "509 [['MA', 'PPE', 'CDU'], ['PPE', 'TP'], ['AL'], ['MA', 'PPE', 'TP'], [], ['PPE'], ['PPE', 'TP'], ['AL'], ['AL'], ['MA', 'PPE', 'CDU'], ['MA'], [], ['PPE', 'TP'], ['MA', 'PPE'], ['MA'], ['PPE', 'CDU', 'TP'], ['AL'], ['MA'], ['MA'], ['PPE', 'TP'], ['MA', 'PPE', 'CDU'], ['PPE', 'CDU', 'TP'], ['MA', 'PPE', 'CDU', 'TP'], [], [], [], ['AL'], ['PPE', 'TP'], ['MA', 'PPE', 'CDU'], ['PPE', 'TP'], [], [], ['PPE', 'CDU', 'TP'], ['MA', 'PPE'], ['AL'], ['AL'], ['AL'], ['PPE', 'TP'], ['AL'], ['MA', 'PPE', 'CDU'], [], [], ['MA', 'PPE', 'CDU', 'TP'], ['MA', 'PPE', 'CDU', 'TP'], ['PPE', 'TP'], ['MA', 'PPE', 'CDU'], ['PPE', 'TP'], ['AL'], ['MA', 'CDU'], ['PPE', 'TP'], ['PPE', 'TP'], ['AL'], ['MA', 'PPE'], ['MA', 'PPE', 'CDU', 'TP'], ['PPE', 'CDU', 'TP'], ['MA', 'CDU'], ['PPE', 'CDU', 'TP'], ['PPE', 'TP'], ['PPE'], ['AL'], ['AL'], ['MA', 'PPE'], ['AL'], ['PPE'], ['MA', 'PPE', 'CDU', 'TP'], ['MA', 'PPE', 'CDU'], ['PPE', 'TP'], ['MA', 'CDU'], ['PPE', 'TP'], ['MA', 'PPE', 'CDU', 'TP'], ['PPE', 'TP'], ['MA', 'PPE', 'CDU'], ['MA', 'PPE', 'CDU'], ['AL'], ['MA', 'CDU'], ['AL'], ['MA', 'PPE', 'CDU'], [], ['MA', 'CDU'], ['PPE', 'TP'], [], ['MA', 'PPE', 'TP'], [], ['AL'], ['MA', 'PPE', 'CDU', 'TP'], ['MA'], ['MA', 'PPE', 'CDU', 'TP'], [], [], ['OTH'], ['MA', 'CDU'], ['AL'], ['PPE', 'TP'], ['MA', 'PPE', 'CDU'], ['AL'], ['AL'], [], ['MA', 'PPE', 'CDU'], ['MA', 'CDU'], ['MA', 'PPE', 'CDU', 'TP'], [], ['PPE', 'TP'], ['AL'], ['AL'], ['AL'], ['PPE', 'TP'], ['MA'], ['MA'], ['AL'], ['MA'], ['MA', 'PPE', 'CDU', 'TP'], ['AL'], ['PPE'], [], ['PPE', 'TP'], ['MA'], ['MA', 'PPE', 'CDU', 'TP'], ['MA', 'PPE', 'CDU'], ['MA', 'CDU'], ['PPE', 'TP'], ['AL'], ['MA', 'PPE', 'CDU'], ['PPE', 'CDU', 'TP'], ['MA', 'CDU'], ['PPE', 'TP'], ['PPE', 'CDU', 'TP'], [], ['PPE'], [], ['PPE', 'TP'], ['MA', 'PPE', 'CDU'], ['MA'], ['MA', 'PPE'], ['MA', 'PPE', 'CDU', 'TP'], [], ['AL'], ['PPE', 'CDU'], ['PPE', 'TP'], ['MA', 'CDU'], ['PPE', 'CDU'], ['AL', 'MA'], ['AL'], [], [], ['PPE', 'TP'], ['MA', 'PPE', 'CDU', 'TP'], ['PPE', 'TP'], ['MA', 'PPE'], ['MA', 'PPE', 'CDU', 'TP'], ['AL'], ['PPE'], ['MA'], ['MA'], ['PPE'], ['AL', 'TP'], ['MA', 'CDU'], ['PPE', 'CDU', 'TP'], ['MA', 'PPE', 'CDU'], ['PPE'], ['AL'], ['PPE', 'CDU', 'TP'], ['MA', 'PPE', 'CDU', 'TP'], ['MA', 'PPE', 'CDU'], ['MA', 'PPE'], ['PPE'], ['PPE', 'TP'], [], [], ['CDU', 'TP'], ['MA', 'CDU'], [], ['MA'], ['MA'], ['AL'], ['MA', 'PPE', 'CDU'], ['PPE'], ['MA', 'PPE', 'CDU'], ['AL'], ['PPE', 'TP'], ['PPE', 'CDU', 'TP'], ['MA', 'PPE', 'CDU'], ['MA', 'PPE', 'CDU'], ['PPE', 'TP'], ['MA', 'CDU'], [], ['PPE', 'TP'], ['MA', 'PPE', 'CDU'], [], ['PPE', 'TP'], ['PPE'], ['MA', 'CDU'], [], [], ['MA', 'CDU'], [], ['MA', 'PPE'], ['PPE', 'CDU', 'TP'], ['AL'], ['AL'], ['AL'], ['PPE', 'TP'], ['PPE', 'TP'], ['PPE', 'TP'], [], ['MA'], ['MA', 'PPE', 'CDU'], ['PPE', 'CDU', 'TP'], ['MA', 'PPE', 'CDU', 'TP'], ['PPE', 'CDU', 'TP'], ['MA'], ['AL'], ['MA', 'PPE', 'CDU'], ['PPE', 'CDU'], ['MA', 'PPE'], ['MA', 'PPE', 'CDU', 'TP'], ['MA', 'PPE'], ['MA', 'CDU'], ['MA'], ['AL'], ['MA', 'PPE', 'CDU', 'TP'], ['PPE', 'TP'], [], ['PPE', 'TP'], ['PPE', 'CDU', 'TP'], ['MA', 'PPE', 'CDU', 'TP'], ['AL'], ['PPE', 'TP'], ['PPE', 'TP'], ['PPE'], ['PPE', 'TP'], [], ['PPE', 'TP'], ['MA', 'PPE', 'CDU'], ['PPE', 'TP'], ['AL'], ['MA', 'PPE', 'TP'], ['MA', 'PPE', 'CDU'], ['PPE', 'TP'], ['PPE', 'TP'], ['PPE', 'TP'], [], ['AL'], ['AL'], [], [], ['MA', 'CDU'], ['PPE', 'TP'], ['MA', 'CDU'], ['TP'], ['PPE', 'CDU', 'TP'], ['MA'], ['MA', 'CDU'], ['PPE', 'TP'], ['MA', 'PPE'], ['MA', 'PPE', 'CDU', 'TP'], ['AL'], ['MA'], ['MA', 'PPE', 'CDU'], ['MA', 'PPE', 'CDU', 'TP'], ['PPE', 'CDU'], ['PPE', 'TP'], ['AL'], ['AL'], ['PPE', 'TP'], ['PPE', 'TP'], ['MA', 'PPE'], ['MA'], ['PPE'], ['PPE'], ['PPE'], [], ['AL'], ['PPE', 'TP'], ['MA'], ['AL'], ['MA', 'PPE'], ['PPE'], ['MA', 'CDU'], ['MA', 'CDU'], ['PPE', 'TP'], ['MA', 'PPE', 'CDU', 'TP'], ['PPE'], ['AL'], ['MA', 'PPE', 'CDU'], ['MA', 'CDU'], [], [], ['PPE'], ['MA'], ['MA', 'PPE', 'CDU'], ['PPE'], ['MA', 'PPE', 'CDU'], [], ['MA', 'PPE', 'CDU'], ['MA'], ['MA'], ['MA'], ['MA', 'PPE', 'CDU'], ['AL'], ['PPE', 'TP'], ['MA', 'CDU'], ['MA', 'PPE', 'CDU'], ['MA', 'PPE', 'CDU', 'TP'], [], ['PPE', 'TP'], ['MA'], ['AL'], ['PPE', 'CDU', 'TP'], ['AL'], ['AL'], ['PPE', 'TP'], ['MA', 'CDU'], ['AL'], ['PPE', 'TP'], ['PPE', 'CDU', 'TP'], ['MA'], ['PPE', 'TP'], [], ['MA', 'CDU'], ['PPE', 'TP'], ['PPE', 'TP'], ['MA', 'PPE'], ['PPE', 'CDU', 'TP'], ['MA', 'PPE'], ['MA', 'PPE', 'CDU', 'TP'], ['MA', 'PPE', 'CDU'], ['PPE', 'TP'], [], ['MA'], ['AL', 'MA'], ['MA', 'PPE', 'CDU', 'TP'], [], ['MA', 'PPE', 'CDU'], ['PPE', 'TP'], ['PPE'], ['PPE'], [], [], ['MA', 'PPE', 'CDU'], ['MA'], ['MA', 'PPE'], ['MA', 'PPE'], ['PPE'], ['MA', 'PPE', 'CDU', 'TP'], ['MA', 'CDU'], ['MA', 'PPE', 'CDU'], ['MA'], ['AL'], ['AL'], ['MA', 'CDU'], ['MA', 'CDU'], ['MA'], ['MA', 'PPE'], ['PPE', 'TP'], ['AL'], [], ['PPE', 'TP'], ['AL'], ['MA', 'TP'], ['AL'], ['PPE'], ['MA'], ['MA', 'PPE', 'TP'], ['MA'], ['PPE', 'TP'], [], ['PPE', 'TP'], [], ['AL'], ['PPE', 'TP'], ['MA', 'PPE'], ['PPE', 'TP'], ['PPE', 'TP'], ['MA'], ['MA'], ['PPE', 'CDU', 'TP'], ['AL'], ['PPE', 'CDU', 'TP'], ['MA', 'PPE'], [], ['MA', 'PPE', 'CDU', 'TP'], ['MA', 'PPE', 'CDU'], ['AL'], ['PPE', 'TP'], ['AL'], ['MA', 'PPE'], ['AL'], ['PPE', 'CDU', 'TP'], ['PPE', 'CDU', 'TP'], ['AL', 'MA'], ['MA', 'PPE', 'CDU', 'TP'], ['AL'], [], ['PPE', 'TP'], ['PPE', 'TP'], ['PPE'], ['PPE', 'TP'], ['PPE', 'TP'], ['MA'], ['MA'], ['MA'], ['MA', 'PPE', 'TP'], ['MA', 'PPE', 'CDU', 'TP'], ['PPE', 'CDU', 'TP'], ['AL'], ['PPE', 'TP'], ['MA', 'PPE'], ['MA', 'PPE', 'CDU'], ['AL'], ['MA', 'PPE', 'CDU', 'TP'], ['MA', 'CDU'], ['MA', 'PPE', 'CDU'], ['PPE', 'TP'], ['PPE', 'TP'], ['PPE', 'TP'], ['MA', 'CDU'], ['MA', 'CDU'], ['MA', 'PPE', 'CDU', 'TP'], ['MA', 'PPE', 'CDU', 'TP'], ['AL'], [], ['MA', 'PPE', 'CDU'], ['AL'], ['PPE', 'TP'], [], ['MA'], ['MA', 'PPE', 'CDU'], [], ['MA', 'PPE', 'CDU', 'TP'], ['MA'], ['PPE', 'TP'], ['MA', 'PPE', 'CDU'], ['PPE', 'CDU', 'TP'], [], ['PPE', 'CDU'], ['MA', 'PPE', 'CDU', 'TP'], ['AL'], ['PPE', 'TP'], ['PPE', 'CDU', 'TP'], ['MA'], ['MA', 'PPE', 'CDU'], ['MA', 'PPE'], ['AL'], ['AL'], ['MA', 'PPE', 'CDU', 'TP'], ['MA', 'PPE', 'CDU'], ['AL'], ['PPE', 'TP'], ['AL'], [], ['PPE', 'CDU', 'TP'], ['AL'], [], ['PPE', 'TP'], ['MA'], ['PPE', 'TP'], ['AL'], [], ['PPE', 'CDU', 'TP'], ['AL'], ['MA', 'PPE', 'CDU'], ['PPE', 'CDU', 'TP'], [], [], ['MA', 'CDU'], ['PPE', 'TP'], ['MA', 'PPE', 'CDU', 'TP'], ['AL'], ['MA'], ['AL'], ['MA', 'PPE', 'CDU', 'TP'], ['PPE', 'TP'], ['MA', 'PPE', 'CDU'], ['PPE', 'CDU', 'TP'], ['MA', 'PPE'], ['MA'], ['PPE', 'CDU'], ['MA', 'PPE', 'TP'], [], ['MA', 'PPE', 'CDU'], ['MA'], ['MA'], ['PPE', 'TP'], ['PPE', 'TP'], ['MA', 'PPE', 'CDU', 'TP'], ['MA', 'CDU'], ['AL'], ['AL'], ['AL'], ['PPE', 'CDU', 'TP'], ['AL'], [], ['MA', 'PPE', 'CDU'], ['PPE', 'TP'], ['PPE', 'CDU', 'TP'], ['PPE', 'TP'], ['MA'], [], ['MA', 'PPE', 'CDU', 'TP'], ['AL'], ['MA'], ['AL'], ['TP'], ['MA', 'CDU'], ['PPE', 'CDU', 'TP'], [], ['MA', 'PPE', 'CDU'], ['MA', 'PPE'], ['MA', 'PPE', 'CDU']]\n"
          ]
        }
      ]
    },
    {
      "cell_type": "code",
      "source": [
        "from sklearn.metrics import classification_report\n",
        "\n",
        "#Show precision and recall per genre\n",
        "print(classification_report(y_test, new_labels,target_names=target_cols))\n",
        "print(\"F1-Score:\",f1_score(y_test,new_labels,average='weighted'))\n",
        "print(\"Precision:\",precision_score(y_test,new_labels,average='weighted'))\n",
        "print(\"Recall:\",recall_score(y_test,new_labels,average='weighted'))"
      ],
      "metadata": {
        "colab": {
          "base_uri": "https://localhost:8080/"
        },
        "id": "Exiohmb8pV9s",
        "outputId": "f7b6e2ac-22f1-48a0-f8ad-c7796ebd4e49"
      },
      "execution_count": null,
      "outputs": [
        {
          "output_type": "stream",
          "name": "stdout",
          "text": [
            "              precision    recall  f1-score   support\n",
            "\n",
            "          AL       0.64      0.73      0.68        77\n",
            "          MA       0.61      0.70      0.65       180\n",
            "         PPE       0.50      0.78      0.61       174\n",
            "         CDU       0.63      0.64      0.63       160\n",
            "          TP       0.69      0.84      0.75       140\n",
            "         OTH       1.00      0.02      0.04        45\n",
            "\n",
            "   micro avg       0.60      0.69      0.64       776\n",
            "   macro avg       0.68      0.62      0.56       776\n",
            "weighted avg       0.63      0.69      0.62       776\n",
            " samples avg       0.55      0.65      0.57       776\n",
            "\n",
            "F1-Score: 0.6247890425669224\n",
            "Precision: 0.6287694710765653\n",
            "Recall: 0.6932989690721649\n"
          ]
        }
      ]
    }
  ]
}